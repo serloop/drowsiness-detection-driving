{
 "cells": [
  {
   "cell_type": "markdown",
   "id": "e09c77ec-7562-4988-b03d-1ec5d8ca6b50",
   "metadata": {},
   "source": [
    "# Generar 'X' e 'y' para todos los experimentos\n",
    "<p>Como datos para las X se toma la media de los 17 canales de:</p>\n",
    "<ul>\n",
    "    <li>X_1: PSD de la banda delta (1~4Hz)</li>\n",
    "    <li>X_2: PSD de la banda theta (4~8Hz)</li>\n",
    "    <li>X_3: PSD de la banda alpha (8~14Hz)</li>\n",
    "    <li>X_4: PSD de la banda beta (14~31Hz)</li>\n",
    "</ul>"
   ]
  },
  {
   "cell_type": "code",
   "execution_count": null,
   "id": "83a62de7-c61f-41ea-9d0c-72acce628090",
   "metadata": {
    "tags": []
   },
   "outputs": [],
   "source": [
    "import mne\n",
    "from mne.externals.pymatreader import read_mat\n",
    "\n",
    "from read import read_features\n",
    "\n",
    "import numpy as np\n",
    "\n",
    "from sklearn.preprocessing import MinMaxScaler\n",
    "from sklearn.preprocessing import StandardScaler\n",
    "\n",
    "import matplotlib\n",
    "import matplotlib.pyplot as plt\n",
    "\n",
    "import pandas as pd"
   ]
  },
  {
   "cell_type": "code",
   "execution_count": null,
   "id": "80b3c7fc-b100-48c9-87f9-234676691435",
   "metadata": {
    "tags": []
   },
   "outputs": [],
   "source": [
    "# Las que mejores graficas tienen\n",
    "#features_files = ['4_20151105_noon.mat', '4_20151107_noon.mat', '5_20141108_noon.mat','12_20150928_noon.mat','14_20151014_night.mat', '18_20150926_noon.mat', '21_20151016_noon.mat']\n",
    "\n",
    "features_files = ['1_20151124_noon_2.csv', '2_20151106_noon.csv', '3_20151024_noon.csv','4_20151105_noon.csv', '4_20151107_noon.csv',\n",
    "            '5_20141108_noon.csv', '5_20151012_night.csv', '6_20151121_noon.csv','7_20151015_night.csv', '8_20151022_noon.csv', \n",
    "            '9_20151017_night.csv', '10_20151125_noon.csv', '11_20151024_night.csv', '12_20150928_noon.csv', '13_20150929_noon.csv',\n",
    "            '14_20151014_night.csv','15_20151126_night.csv', '16_20151128_night.csv', '17_20150925_noon.csv', '18_20150926_noon.csv',\n",
    "            '19_20151114_noon.csv', '20_20151129_night.csv', '21_20151016_noon.csv']\n",
    "\n",
    "# features_files = ['21_20151016_noon.csv']\n",
    "\n",
    "X_all = {} # psd\n",
    "X_all_eog = {} # psd + eog\n",
    "y_all = {} # datos perclos raw\n",
    "\n",
    "for experiment in features_files:\n",
    "    \n",
    "    ''' EOG parpadeos por epoch'''\n",
    "    mat_data = read_mat(f'./SEED-VIG/Raw_Data/{experiment[:-4]}.mat')\n",
    "    \n",
    "    sfreq = mat_data['EOG']['eog_config']['current_sample_rate']\n",
    "    samples = mat_data['EOG']['eog_h']*1e-6 \n",
    "    samples = np.vstack((samples, mat_data['EOG']['eog_v']*1e-6))\n",
    "\n",
    "    ch_names = ['EOG_H', 'EOG_V']\n",
    "    ch_types = [\"eog\"]*len(ch_names)\n",
    "\n",
    "    info = mne.create_info(ch_names=ch_names, sfreq=sfreq, ch_types=ch_types)\n",
    "\n",
    "    info.set_montage('standard_1020')\n",
    "    \n",
    "    raw = mne.io.RawArray(samples, info, verbose=False)\n",
    "    \n",
    "    # Busqueda del treshold para el parpadeo\n",
    "    # En los 5 primeros segundos del experimento, buscamos el percentil 2.5 y calculamos su valor absoluto como threshold para detectar parpadeos\n",
    "    threshold = abs(np.percentile(raw.get_data()[1][:5*1000], 2.5))\n",
    "    \n",
    "    blinks = mne.preprocessing.find_eog_events(raw, filter_length='10s', thresh=threshold, verbose=False)\n",
    "    blinks = blinks.T[0]\n",
    "    \n",
    "    n_samples = 885\n",
    "    dur_sample = 8 # segs\n",
    "    len_sample = 8*125\n",
    "    \n",
    "    blinks_per_sample = []\n",
    "    for i in range(n_samples):\n",
    "        blinks_per_sample.append([])\n",
    "        \n",
    "    for val in blinks:\n",
    "        blinks_per_sample[val//len_sample].append(val)\n",
    "    \n",
    "    n_blinks_per_sample = [0]*n_samples\n",
    "        \n",
    "    for i in range(885):\n",
    "        n_blinks_per_sample[i] = len(blinks_per_sample[i])\n",
    "        \n",
    "    scaler = MinMaxScaler(feature_range=(0, 1))\n",
    "    n_blinks_per_sample = np.array(n_blinks_per_sample)\n",
    "    n_blinks_per_sample = scaler.fit_transform(n_blinks_per_sample.reshape(-1,1))\n",
    "    \n",
    "    \n",
    "    ''' PSD '''\n",
    "    mat_data = read_mat(f'./SEED-VIG/EEG_Feature_5Bands/{experiment[:-4]}.mat')\n",
    "    perclos_data = read_mat(f'./SEED-VIG/perclos_labels/{experiment[:-4]}.mat')\n",
    "    y = np.array(perclos_data['perclos'])\n",
    "\n",
    "    n_channels = 17\n",
    "    psd_data = mat_data['psd_movingAve']\n",
    "    perclos = []\n",
    "    psd_delta = []\n",
    "    psd_theta = []\n",
    "    psd_alpha = []\n",
    "    psd_beta = []\n",
    "    psd_gamma = []\n",
    "    start = 0\n",
    "    end = 885\n",
    "    for t in range(start, end):\n",
    "        vals= np.zeros(5)\n",
    "\n",
    "        for i in range(n_channels):\n",
    "            vals[0] += psd_data[i][t][0]\n",
    "            vals[1] += psd_data[i][t][1]\n",
    "            vals[2] += psd_data[i][t][2]\n",
    "            vals[3] += psd_data[i][t][3]\n",
    "            vals[4] += psd_data[i][t][4]\n",
    "        vals /= 17\n",
    "\n",
    "        perclos.append(y[t])\n",
    "        psd_delta.append(vals[0])\n",
    "        psd_theta.append(vals[1])\n",
    "        psd_alpha.append(vals[2])\n",
    "        psd_beta.append(vals[3])\n",
    "        psd_gamma.append(vals[4])\n",
    "\n",
    "    \n",
    "    scaler = MinMaxScaler(feature_range=(0, 1))\n",
    "    psd_delta = np.array(psd_delta)\n",
    "    psd_delta = scaler.fit_transform(psd_delta.reshape(-1,1))\n",
    "\n",
    "    scaler = MinMaxScaler(feature_range=(0, 1))\n",
    "    psd_theta = np.array(psd_theta)\n",
    "    psd_theta = scaler.fit_transform(psd_theta.reshape(-1,1))\n",
    "\n",
    "    scaler = MinMaxScaler(feature_range=(0, 1))\n",
    "    psd_alpha = np.array(psd_alpha)\n",
    "    psd_alpha = scaler.fit_transform(psd_alpha.reshape(-1,1))\n",
    "\n",
    "    scaler = MinMaxScaler(feature_range=(0, 1))\n",
    "    psd_beta = np.array(psd_beta)\n",
    "    psd_beta = scaler.fit_transform(psd_beta.reshape(-1,1))\n",
    "    \n",
    "    scaler = MinMaxScaler(feature_range=(0, 1))\n",
    "    psd_gamma = np.array(psd_gamma)\n",
    "    psd_gamma = scaler.fit_transform(psd_gamma.reshape(-1,1))\n",
    "\n",
    "    X = psd_delta\n",
    "    X = np.hstack((X, psd_theta))\n",
    "    X = np.hstack((X, psd_alpha))\n",
    "    X = np.hstack((X, psd_beta))\n",
    "    ''' DESCOMENTAR PARA USAR PSD DE GAMMA '''\n",
    "    X = np.hstack((X, psd_gamma))\n",
    "    \n",
    "    X_all[f'{experiment[:-4]}'] = X # guardamos los psd\n",
    "    \n",
    "    X = np.hstack((X, n_blinks_per_sample))\n",
    "    \n",
    "    X_all_eog[f'{experiment[:-4]}'] = X # guardamos psd + eog\n",
    "    \n",
    "    y_all[f'{experiment[:-4]}'] = y # guardamos perclos raw\n",
    "    \n",
    "print(f'Generados los diccionarios X_all e y_all')"
   ]
  },
  {
   "cell_type": "code",
   "execution_count": null,
   "id": "fdee812e-c7b2-482e-97a1-38a02a22325c",
   "metadata": {
    "tags": []
   },
   "outputs": [],
   "source": [
    "print(X_all_eog['1_20151124_noon_2'].shape)\n",
    "\n",
    "for key in X_all:\n",
    "    print(key)"
   ]
  },
  {
   "cell_type": "markdown",
   "id": "5e93fd13-50f8-47b0-9c7b-9abe0066ad78",
   "metadata": {},
   "source": [
    "# Busqueda de hyperparametros y muestra de los resultados"
   ]
  },
  {
   "cell_type": "markdown",
   "id": "7b9596b7-70b1-42d2-ab69-3837a1e7b24b",
   "metadata": {},
   "source": [
    "## Funciones para la busqueda y el plot"
   ]
  },
  {
   "cell_type": "code",
   "execution_count": null,
   "id": "bc3fbda8-3cd0-428c-aaf0-e6bbb2637f2b",
   "metadata": {
    "tags": []
   },
   "outputs": [],
   "source": [
    "from sklearn.model_selection import RandomizedSearchCV\n",
    "\n",
    "from sklearn.model_selection import StratifiedShuffleSplit\n",
    "\n",
    "from sklearn.model_selection import train_test_split\n",
    "\n",
    "from sklearn.metrics import mean_absolute_error, mean_squared_error, r2_score\n",
    "\n",
    "from scipy.stats import uniform, randint, loguniform, gamma\n",
    "\n",
    "def find_and_test_best_model_reg(X, y, model, space, cv=10, n_iter=100, scoring=None):\n",
    "    \n",
    "    X_train, X_test, y_train, y_test = train_test_split(X, y, test_size=0.25, random_state=42)\n",
    "    \n",
    "    search = RandomizedSearchCV(model, space, n_iter=n_iter, scoring=scoring, n_jobs=-1, cv=cv, random_state=42)\n",
    "    result = search.fit(X_train, y_train)\n",
    "    \n",
    "    print(f\"Best Model:\")\n",
    "    print(f\"\\tScore: {result.best_score_:.4f}\")\n",
    "    print(f\"\\tHyperparameters: {result.best_params_}\")\n",
    "    \n",
    "    print('\\nResults with X_test:')\n",
    "    best_model = result.best_estimator_\n",
    "    final_predictions = best_model.predict(X_test)\n",
    "    # Por si los valores son mayores de 1 o menores que 0\n",
    "    final_predictions = np.clip(final_predictions, 0, 1)\n",
    "    \n",
    "    rmse = np.sqrt(mean_squared_error(y_test, final_predictions))\n",
    "    print(f\"\\tRMSE: {rmse:.4f}\")\n",
    "    \n",
    "    # represents the proportion of variance (of y) that has been explained by the independent variables in the model\n",
    "    r2 = r2_score(y_test, final_predictions)\n",
    "    print(f\"\\tr^2: {r2:.4f}\")\n",
    "    \n",
    "    return best_model, rmse, r2\n",
    "\n",
    "def plot_results_reg(X, y, model):\n",
    "    plt.figure(figsize=(20, 8))\n",
    "    plt.plot(y, color=\"black\", label=\"real\", zorder=0)\n",
    "    predictions = model.predict(X)\n",
    "    predictions = np.clip(predictions, 0, 1)\n",
    "    plt.plot(predictions, color=\"red\", label=\"predicted\")\n",
    "    plt.xlabel('Epoch')\n",
    "    plt.ylabel('% PERCLOS')\n",
    "    plt.legend(loc='best')\n",
    "    plt.show()"
   ]
  },
  {
   "cell_type": "markdown",
   "id": "e946ab76-a859-481c-b396-e3d23848b376",
   "metadata": {},
   "source": [
    "# <a href=\"https://scikit-learn.org/stable/modules/generated/sklearn.svm.SVR.html\">SVM-r</a>"
   ]
  },
  {
   "cell_type": "code",
   "execution_count": null,
   "id": "6d9a5b05-6851-4e6e-bf58-0ef85ef52e1f",
   "metadata": {
    "jupyter": {
     "outputs_hidden": true
    }
   },
   "outputs": [],
   "source": [
    "from sklearn.svm import SVR"
   ]
  },
  {
   "cell_type": "markdown",
   "id": "320fe0a3-9892-42c8-9cd7-ef0de1bf6f5b",
   "metadata": {},
   "source": [
    "### Mean, STD, var, p05, ..."
   ]
  },
  {
   "cell_type": "code",
   "execution_count": null,
   "id": "99c1fffa-4014-4273-8540-4ffa274ba7ba",
   "metadata": {
    "tags": []
   },
   "outputs": [],
   "source": [
    "csv_dict = {\n",
    "    'sujeto': [],\n",
    "    'rmse': [],\n",
    "    'cc': [],\n",
    "    \"r2\": []\n",
    "}\n",
    "\n",
    "for file in features_files:\n",
    "    \n",
    "    X, y = read_features(f'./features/{file[:-4]}.csv')\n",
    "    #X, y = read_features(file, features=[0, 1])\n",
    "\n",
    "    scaler = MinMaxScaler(feature_range=(0, 1))\n",
    "    X_minmax = scaler.fit_transform(X)\n",
    "\n",
    "    scaler = StandardScaler()\n",
    "    X_standar = scaler.fit_transform(X)\n",
    "\n",
    "    key = file[:-4]\n",
    "    print(f\"Experiment: {key}\")\n",
    "    model = SVR()\n",
    "\n",
    "    space = dict()\n",
    "    \n",
    "    space['kernel'] = ['linear', 'rbf']\n",
    "    space['gamma'] = ['scale', 'auto']\n",
    "    space['tol'] = uniform(1e-5, 1e-1)\n",
    "    space['C'] = randint(1, 500)\n",
    "    space['epsilon'] = uniform(0.01, 0.5)\n",
    "    space['shrinking'] = [True, False]\n",
    "\n",
    "    best_model, rmse, r2 = find_and_test_best_model_reg(X_minmax, y, model, space, cv=10,  n_iter=35)\n",
    "    \n",
    "    csv_dict['sujeto'].append(key)\n",
    "    csv_dict['rmse'].append(rmse)\n",
    "    csv_dict['cc'].append(np.sqrt(r2))\n",
    "    csv_dict['r2'].append(r2)\n",
    "\n",
    "#     plot_results_reg(X_minmax, y, best_model)\n",
    "    \n",
    "df = pd.DataFrame(csv_dict)\n",
    "df.to_csv('./results_reg/SVM_r-EEG.csv', index=False)"
   ]
  },
  {
   "cell_type": "markdown",
   "id": "7a402408-faef-43c3-a08f-944386d60c18",
   "metadata": {},
   "source": [
    "### PSD"
   ]
  },
  {
   "cell_type": "code",
   "execution_count": null,
   "id": "67ae77f7-6e79-435e-afe0-91ca2bd68c24",
   "metadata": {
    "jupyter": {
     "outputs_hidden": true
    },
    "tags": []
   },
   "outputs": [],
   "source": [
    "key = '21_20151016_noon'\n",
    "\n",
    "csv_dict = {\n",
    "    'sujeto': [],\n",
    "    'rmse': [],\n",
    "    'cc': [],\n",
    "    \"r2\": []\n",
    "}\n",
    "\n",
    "for key in X_all:\n",
    "    print(f\"Experiment: {key}\")\n",
    "    model = SVR()\n",
    "\n",
    "    space = dict()\n",
    "    \n",
    "    space['kernel'] = ['linear', 'rbf', 'sigmoid']\n",
    "    space['gamma'] = ['scale', 'auto']\n",
    "    space['tol'] = uniform(1e-5, 1e-1)\n",
    "    space['C'] = randint(1, 500)\n",
    "    space['epsilon'] = uniform(0.01, 0.5)\n",
    "    space['shrinking'] = [True, False]\n",
    "\n",
    "    best_model, rmse, r2 = find_and_test_best_model_reg(X_all[key], y_all[key], model, space, cv=10,  n_iter=25)\n",
    "    \n",
    "    csv_dict['sujeto'].append(key)\n",
    "    csv_dict['rmse'].append(rmse)\n",
    "    csv_dict['cc'].append(np.sqrt(r2))\n",
    "    csv_dict['r2'].append(r2)\n",
    "    \n",
    "    #plot_results_reg(X_all[key], y_all[key], best_model)\n",
    "    \n",
    "df = pd.DataFrame(csv_dict)\n",
    "df.to_csv('./results_reg/SVM_r-PSD.csv', index=False)"
   ]
  },
  {
   "cell_type": "markdown",
   "id": "8881b8ff-6da8-40b2-87f7-aafc89ce2011",
   "metadata": {},
   "source": [
    "### PSD+EOG"
   ]
  },
  {
   "cell_type": "code",
   "execution_count": null,
   "id": "fa5adde4-1ac9-4a1e-b225-9cdc97a278ce",
   "metadata": {
    "jupyter": {
     "outputs_hidden": true
    },
    "tags": []
   },
   "outputs": [],
   "source": [
    "key = '21_20151016_noon'\n",
    "\n",
    "csv_dict = {\n",
    "    'sujeto': [],\n",
    "    'rmse': [],\n",
    "    'cc': [],\n",
    "    \"r2\": []\n",
    "}\n",
    "\n",
    "for key in X_all:\n",
    "    print(f\"Experiment: {key}\")\n",
    "    model = SVR()\n",
    "\n",
    "    space = dict()\n",
    "    \n",
    "    space['kernel'] = ['linear', 'rbf', 'sigmoid']\n",
    "    space['gamma'] = ['scale', 'auto']\n",
    "    space['tol'] = uniform(1e-5, 1e-1)\n",
    "    space['C'] = randint(1, 500)\n",
    "    space['epsilon'] = uniform(0.01, 0.5)\n",
    "    space['shrinking'] = [True, False]\n",
    "\n",
    "    best_model, rmse, r2 = find_and_test_best_model_reg(X_all_eog[key], y_all[key], model, space, cv=10,  n_iter=25)\n",
    "    \n",
    "    csv_dict['sujeto'].append(key)\n",
    "    csv_dict['rmse'].append(rmse)\n",
    "    csv_dict['cc'].append(np.sqrt(r2))\n",
    "    csv_dict['r2'].append(r2)\n",
    "    \n",
    "    #plot_results_reg(X_all_eog[key], y_all[key], best_model)\n",
    "    \n",
    "df = pd.DataFrame(csv_dict)\n",
    "df.to_csv('./results_reg/SVM_r-PSD+EOG.csv', index=False)"
   ]
  },
  {
   "cell_type": "markdown",
   "id": "b5540d48-9545-4a6d-ba35-eaf04359ca49",
   "metadata": {},
   "source": [
    "# <a href=\"https://scikit-learn.org/stable/modules/neighbors.html#nearest-neighbors-regression\">K Nearest Neighbors (KNN)</a>"
   ]
  },
  {
   "cell_type": "code",
   "execution_count": null,
   "id": "720f7c03-ec21-4d64-8e2e-127d8933f409",
   "metadata": {
    "jupyter": {
     "outputs_hidden": true
    },
    "tags": []
   },
   "outputs": [],
   "source": [
    "from sklearn.neighbors import KNeighborsRegressor"
   ]
  },
  {
   "cell_type": "markdown",
   "id": "64070c3c-5cd6-4ec2-b2d6-489389cf0320",
   "metadata": {},
   "source": [
    "### Mean, STD, var, p05, ..."
   ]
  },
  {
   "cell_type": "code",
   "execution_count": null,
   "id": "dc8ca504-727e-40e6-a7e8-9100c1c2f4d2",
   "metadata": {
    "tags": []
   },
   "outputs": [],
   "source": [
    "csv_dict = {\n",
    "    'sujeto': [],\n",
    "    'rmse': [],\n",
    "    'cc': [],\n",
    "    \"r2\": []\n",
    "}\n",
    "\n",
    "for file in features_files:\n",
    "    \n",
    "    X, y = read_features(f'./features/{file[:-4]}.csv')\n",
    "    #X, y = read_features(file, features=[0, 1])\n",
    "\n",
    "    scaler = MinMaxScaler(feature_range=(0, 1))\n",
    "    X_minmax = scaler.fit_transform(X)\n",
    "\n",
    "    scaler = StandardScaler()\n",
    "    X_standar = scaler.fit_transform(X)\n",
    "\n",
    "    key = file[:-4]\n",
    "    print(f\"Experiment: {key}\")\n",
    "    model = KNeighborsRegressor(n_jobs=-1)\n",
    "\n",
    "    space = dict()\n",
    "    space['n_neighbors'] = randint(3, 25)\n",
    "    space['weights'] = ['uniform', 'distance']\n",
    "    space['algorithm'] = ['auto', 'ball_tree', 'kd_tree', 'brute']\n",
    "    space['leaf_size'] = randint(15, 45)\n",
    "    space['p'] = [1, 2]\n",
    "\n",
    "    best_model, rmse, r2 = find_and_test_best_model_reg(X_minmax, y, model, space, cv=10,  n_iter=20)\n",
    "    \n",
    "    csv_dict['sujeto'].append(key)\n",
    "    csv_dict['rmse'].append(rmse)\n",
    "    csv_dict['cc'].append(np.sqrt(r2))\n",
    "    csv_dict['r2'].append(r2)\n",
    "\n",
    "#     plot_results_reg(X_minmax, y, best_model)\n",
    "    \n",
    "df = pd.DataFrame(csv_dict)\n",
    "df.to_csv('./results_reg/KNN-EEG.csv', index=False)"
   ]
  },
  {
   "cell_type": "markdown",
   "id": "b4a8cfc4-9b0c-4db7-9b1c-f2decc6f1cf3",
   "metadata": {},
   "source": [
    "### PSD"
   ]
  },
  {
   "cell_type": "code",
   "execution_count": null,
   "id": "33b261c1-d5d2-48f7-86dd-ed29f018a2dc",
   "metadata": {
    "jupyter": {
     "outputs_hidden": true
    },
    "tags": []
   },
   "outputs": [],
   "source": [
    "key = '21_20151016_noon'\n",
    "\n",
    "csv_dict = {\n",
    "    'sujeto': [],\n",
    "    'rmse': [],\n",
    "    'cc': [],\n",
    "    \"r2\": []\n",
    "}\n",
    "\n",
    "for key in X_all:\n",
    "    print(f\"Experiment: {key}\")\n",
    "    model = KNeighborsRegressor(n_jobs=-1)\n",
    "\n",
    "    space = dict()\n",
    "    space['n_neighbors'] = randint(3, 25)\n",
    "    space['weights'] = ['uniform', 'distance']\n",
    "    space['algorithm'] = ['auto', 'ball_tree', 'kd_tree', 'brute']\n",
    "    space['leaf_size'] = randint(15, 45)\n",
    "    space['p'] = [1, 2]\n",
    "\n",
    "    best_model, rmse, r2 = find_and_test_best_model_reg(X_all[key], y_all[key], model, space, cv=10,  n_iter=75)\n",
    "    \n",
    "    csv_dict['sujeto'].append(key)\n",
    "    csv_dict['rmse'].append(rmse)\n",
    "    csv_dict['cc'].append(np.sqrt(r2))\n",
    "    csv_dict['r2'].append(r2)\n",
    "    \n",
    "    #plot_results_reg(X_all[key], y_all[key], best_model)\n",
    "    \n",
    "df = pd.DataFrame(csv_dict)\n",
    "df.to_csv('./results_reg/KNN-PSD.csv', index=False) "
   ]
  },
  {
   "cell_type": "markdown",
   "id": "15b9a785-9e9b-49c7-af41-2586e88afb2b",
   "metadata": {},
   "source": [
    "### PSD + EOG"
   ]
  },
  {
   "cell_type": "code",
   "execution_count": null,
   "id": "5162a0d8-825e-4ff8-887a-85db642ea8a4",
   "metadata": {
    "jupyter": {
     "outputs_hidden": true
    },
    "tags": []
   },
   "outputs": [],
   "source": [
    "key = '21_20151016_noon'\n",
    "\n",
    "csv_dict = {\n",
    "    'sujeto': [],\n",
    "    'rmse': [],\n",
    "    'cc': [],\n",
    "    \"r2\": []\n",
    "}\n",
    "\n",
    "for key in X_all:\n",
    "    print(f\"Experiment: {key}\")\n",
    "    model = KNeighborsRegressor(n_jobs=-1)\n",
    "\n",
    "    space = dict()\n",
    "    space['n_neighbors'] = randint(3, 25)\n",
    "    space['weights'] = ['uniform', 'distance']\n",
    "    space['algorithm'] = ['auto', 'ball_tree', 'kd_tree', 'brute']\n",
    "    space['leaf_size'] = randint(15, 45)\n",
    "    space['p'] = [1, 2]\n",
    "\n",
    "    best_model, rmse, r2 = find_and_test_best_model_reg(X_all_eog[key], y_all[key], model, space, cv=10,  n_iter=75)\n",
    "    \n",
    "    csv_dict['sujeto'].append(key)\n",
    "    csv_dict['rmse'].append(rmse)\n",
    "    csv_dict['cc'].append(np.sqrt(r2))\n",
    "    csv_dict['r2'].append(r2)\n",
    "\n",
    "    # plot_results_reg(X_all_eog[key], y_all[key], best_model)\n",
    "    \n",
    "df = pd.DataFrame(csv_dict)\n",
    "df.to_csv('./results_reg/KNN-PSD+EOG.csv', index=False) "
   ]
  },
  {
   "cell_type": "markdown",
   "id": "f35f89db-0231-4cba-ad90-20d48e7877dd",
   "metadata": {},
   "source": [
    "# <a href=\"https://scikit-learn.org/stable/modules/tree.html#regression\">Decision Trees</a>"
   ]
  },
  {
   "cell_type": "code",
   "execution_count": null,
   "id": "172550f6-e2a8-4681-98c6-e2f0d87064c5",
   "metadata": {
    "tags": []
   },
   "outputs": [],
   "source": [
    "from sklearn.tree import DecisionTreeRegressor"
   ]
  },
  {
   "cell_type": "markdown",
   "id": "1790b129-28c3-482c-8aca-a2f0da88b523",
   "metadata": {},
   "source": [
    "### Mean, STD, var, p05, ..."
   ]
  },
  {
   "cell_type": "code",
   "execution_count": null,
   "id": "daa7b3ba-4c0d-4e20-b911-5fb434c72c83",
   "metadata": {
    "tags": []
   },
   "outputs": [],
   "source": [
    "csv_dict = {\n",
    "    'sujeto': [],\n",
    "    'rmse': [],\n",
    "    'cc': [],\n",
    "    \"r2\": []\n",
    "}\n",
    "\n",
    "for file in features_files:\n",
    "    \n",
    "    X, y = read_features(f'./features/{file[:-4]}.csv')\n",
    "    #X, y = read_features(file, features=[0, 1])\n",
    "\n",
    "    scaler = MinMaxScaler(feature_range=(0, 1))\n",
    "    X_minmax = scaler.fit_transform(X)\n",
    "\n",
    "    scaler = StandardScaler()\n",
    "    X_standar = scaler.fit_transform(X)\n",
    "\n",
    "    key = file[:-4]\n",
    "    print(f\"Experiment: {key}\")\n",
    "    model = DecisionTreeRegressor(random_state=42)\n",
    "\n",
    "    space = dict()\n",
    "    space['criterion'] = ['mse', 'friedman_mse']\n",
    "    space['splitter'] = [\"best\", \"random\"]\n",
    "    space['max_depth'] = [None] + np.array(range(5, 100)).tolist()\n",
    "    space['min_samples_split'] = [2]\n",
    "    space['min_samples_leaf'] = [1]\n",
    "    space['max_features'] = [\"auto\", \"sqrt\", \"log2\"]\n",
    "\n",
    "    best_model, rmse, r2 = find_and_test_best_model_reg(X_minmax, y, model, space, cv=10,  n_iter=10)\n",
    "    \n",
    "    csv_dict['sujeto'].append(key)\n",
    "    csv_dict['rmse'].append(rmse)\n",
    "    csv_dict['cc'].append(np.sqrt(r2))\n",
    "    csv_dict['r2'].append(r2)\n",
    "\n",
    "    plot_results_reg(X_minmax, y, best_model)\n",
    "    \n",
    "df = pd.DataFrame(csv_dict)\n",
    "df.to_csv('./results_reg/DT-EEG.csv', index=False)"
   ]
  },
  {
   "cell_type": "markdown",
   "id": "f1f78dff-c1f4-44ff-a13d-317a3481136b",
   "metadata": {},
   "source": [
    "### PSD"
   ]
  },
  {
   "cell_type": "code",
   "execution_count": null,
   "id": "5ae3bc96-d264-497e-b623-b59ae5b173ac",
   "metadata": {
    "tags": []
   },
   "outputs": [],
   "source": [
    "key = '21_20151016_noon'\n",
    "\n",
    "csv_dict = {\n",
    "    'sujeto': [],\n",
    "    'rmse': [],\n",
    "    'cc': [],\n",
    "    \"r2\": []\n",
    "}\n",
    "\n",
    "for key in X_all:\n",
    "    print(f\"Experiment: {key}\")\n",
    "    model = DecisionTreeRegressor(random_state=42)\n",
    "\n",
    "    space = dict()\n",
    "    space['criterion'] = ['mse', 'friedman_mse', 'mae', 'poisson']\n",
    "    space['splitter'] = [\"best\", \"random\"]\n",
    "    space['max_depth'] = [None] + np.array(range(5, 100)).tolist()\n",
    "    space['min_samples_split'] = [2]\n",
    "    space['min_samples_leaf'] = [1]\n",
    "    space['max_features'] = [\"auto\", \"sqrt\", \"log2\"]\n",
    "\n",
    "    best_model, rmse, r2 = find_and_test_best_model_reg(X_all[key], y_all[key], model, space, cv=10,  n_iter=100)\n",
    "    \n",
    "    csv_dict['sujeto'].append(key)\n",
    "    csv_dict['rmse'].append(rmse)\n",
    "    csv_dict['cc'].append(np.sqrt(r2))\n",
    "    csv_dict['r2'].append(r2)\n",
    "\n",
    "    plot_results_reg(X_all[key], y_all[key], best_model)\n",
    "# df = pd.DataFrame(csv_dict)\n",
    "# df.to_csv('./results_reg/DT-PSD.csv', index=False) "
   ]
  },
  {
   "cell_type": "markdown",
   "id": "df677f19-9f62-43a4-ba73-b3395ccaf050",
   "metadata": {},
   "source": [
    "### PSD+EOG"
   ]
  },
  {
   "cell_type": "code",
   "execution_count": null,
   "id": "fd559c3b-ffaa-482f-9905-522ad0b37bae",
   "metadata": {
    "tags": []
   },
   "outputs": [],
   "source": [
    "csv_dict = {\n",
    "    'sujeto': [],\n",
    "    'rmse': [],\n",
    "    'cc': [],\n",
    "    \"r2\": []\n",
    "}\n",
    "\n",
    "for key in X_all:\n",
    "    print(f\"Experiment: {key}\")\n",
    "    model = DecisionTreeRegressor(random_state=42)\n",
    "\n",
    "    space = dict()\n",
    "    space['criterion'] = ['mse', 'friedman_mse', 'mae', 'poisson']\n",
    "    space['splitter'] = [\"best\", \"random\"]\n",
    "    space['max_depth'] = [None] + np.array(range(5, 100)).tolist()\n",
    "    space['min_samples_split'] = [2]\n",
    "    space['min_samples_leaf'] = [1]\n",
    "    space['max_features'] = [\"auto\", \"sqrt\", \"log2\"]\n",
    "\n",
    "    best_model, rmse, r2 = find_and_test_best_model_reg(X_all_eog[key], y_all[key], model, space, cv=10,  n_iter=100)\n",
    "    \n",
    "    csv_dict['sujeto'].append(key)\n",
    "    csv_dict['rmse'].append(rmse)\n",
    "    csv_dict['cc'].append(np.sqrt(r2))\n",
    "    csv_dict['r2'].append(r2)\n",
    "\n",
    "    plot_results_reg(X_all_eog[key], y_all[key], best_model)\n",
    "# df = pd.DataFrame(csv_dict)\n",
    "# df.to_csv('./results_reg/DT-PSD+EOG.csv', index=False) "
   ]
  },
  {
   "cell_type": "markdown",
   "id": "f85b2ce3-bb8b-4e24-8b35-7ba39ff4b11d",
   "metadata": {},
   "source": [
    "# <a href=\"https://scikit-learn.org/stable/modules/gaussian_process.html#gaussian-process-regression-gpr\">Gaussian Processes</a>"
   ]
  },
  {
   "cell_type": "code",
   "execution_count": null,
   "id": "457f47f4-5b53-4ae7-b254-f3930f2519fb",
   "metadata": {
    "jupyter": {
     "outputs_hidden": true
    },
    "tags": []
   },
   "outputs": [],
   "source": [
    "from sklearn.gaussian_process import GaussianProcessRegressor"
   ]
  },
  {
   "cell_type": "markdown",
   "id": "65fcaf9d-4a00-418b-aab1-8159f0432be4",
   "metadata": {},
   "source": [
    "### Mean, STD, var, p05, ..."
   ]
  },
  {
   "cell_type": "code",
   "execution_count": null,
   "id": "7d53be79-6333-42a7-b885-cf6554abbf11",
   "metadata": {
    "tags": []
   },
   "outputs": [],
   "source": [
    "csv_dict = {\n",
    "    'sujeto': [],\n",
    "    'rmse': [],\n",
    "    'cc': [],\n",
    "    \"r2\": []\n",
    "}\n",
    "\n",
    "for file in features_files:\n",
    "    \n",
    "    X, y = read_features(f'./features/{file[:-4]}.csv')\n",
    "    #X, y = read_features(file, features=[0, 1])\n",
    "\n",
    "    scaler = MinMaxScaler(feature_range=(0, 1))\n",
    "    X_minmax = scaler.fit_transform(X)\n",
    "\n",
    "    scaler = StandardScaler()\n",
    "    X_standar = scaler.fit_transform(X)\n",
    "\n",
    "    key = file[:-4]\n",
    "    print(f\"Experiment: {key}\")\n",
    "    model = GaussianProcessRegressor(random_state=42)\n",
    "\n",
    "    space = dict()\n",
    "    #space['alpha'] = uniform(5e-9, 5e-11) #[5e-8, 1e-9, 5e-9, 1e-10, 5e-10, 1e-11, 5e-11]\n",
    "    space['optimizer'] = [\"fmin_l_bfgs_b\"]\n",
    "    space['n_restarts_optimizer'] = randint(0, 10)\n",
    "\n",
    "    best_model, rmse, r2 = find_and_test_best_model_reg(X_minmax, y, model, space, cv=10,  n_iter=20)\n",
    "    \n",
    "    csv_dict['sujeto'].append(key)\n",
    "    csv_dict['rmse'].append(rmse)\n",
    "    csv_dict['cc'].append(np.sqrt(r2))\n",
    "    csv_dict['r2'].append(r2)\n",
    "\n",
    "    plot_results_reg(X_minmax, y, best_model)\n",
    "    \n",
    "df = pd.DataFrame(csv_dict)\n",
    "df.to_csv('./results_reg/GP-EEG.csv', index=False)"
   ]
  },
  {
   "cell_type": "markdown",
   "id": "6330894e-14dc-4c0b-8106-faaf52f597fb",
   "metadata": {},
   "source": [
    "### PSD"
   ]
  },
  {
   "cell_type": "code",
   "execution_count": null,
   "id": "dae93ae5-156f-416e-adc3-68d758153119",
   "metadata": {
    "jupyter": {
     "outputs_hidden": true
    },
    "tags": []
   },
   "outputs": [],
   "source": [
    "key = '21_20151016_noon'\n",
    "\n",
    "csv_dict = {\n",
    "    'sujeto': [],\n",
    "    'rmse': [],\n",
    "    'cc': [],\n",
    "    \"r2\": []\n",
    "}\n",
    "\n",
    "for key in X_all:\n",
    "    print(f\"Experiment: {key}\")\n",
    "    model = GaussianProcessRegressor(random_state=42)\n",
    "\n",
    "    space = dict()\n",
    "    #space['alpha'] = uniform(5e-9, 5e-11) #[5e-8, 1e-9, 5e-9, 1e-10, 5e-10, 1e-11, 5e-11]\n",
    "    space['optimizer'] = [\"fmin_l_bfgs_b\"]\n",
    "    space['n_restarts_optimizer'] = randint(0, 10)\n",
    "\n",
    "    best_model, rmse, r2 = find_and_test_best_model_reg(X_all[key], y_all[key], model, space, cv=10,  n_iter=20)\n",
    "    \n",
    "    csv_dict['sujeto'].append(key)\n",
    "    csv_dict['rmse'].append(rmse)\n",
    "    csv_dict['cc'].append(np.sqrt(r2))\n",
    "    csv_dict['r2'].append(r2)\n",
    "\n",
    "    plot_results_reg(X_all[key], y_all[key], best_model)\n",
    "df = pd.DataFrame(csv_dict)\n",
    "df.to_csv('./results_reg/GP-PSD.csv', index=False)"
   ]
  },
  {
   "cell_type": "markdown",
   "id": "fc8c8658-2d5b-4271-bd0d-14054f989463",
   "metadata": {},
   "source": [
    "### PSD + EOG"
   ]
  },
  {
   "cell_type": "code",
   "execution_count": null,
   "id": "08323e07-c443-407c-abba-f318abffff87",
   "metadata": {
    "tags": []
   },
   "outputs": [],
   "source": [
    "key = '21_20151016_noon'\n",
    "\n",
    "csv_dict = {\n",
    "    'sujeto': [],\n",
    "    'rmse': [],\n",
    "    'cc': [],\n",
    "    \"r2\": []\n",
    "}\n",
    "\n",
    "for key in X_all:\n",
    "    print(f\"Experiment: {key}\")\n",
    "    model = GaussianProcessRegressor(random_state=42)\n",
    "\n",
    "    space = dict()\n",
    "    #space['alpha'] = uniform(5e-9, 5e-11) #[5e-8, 1e-9, 5e-9, 1e-10, 5e-10, 1e-11, 5e-11]\n",
    "    space['optimizer'] = [\"fmin_l_bfgs_b\"]\n",
    "    space['n_restarts_optimizer'] = randint(0, 10)\n",
    "\n",
    "    best_model, rmse, r2 = find_and_test_best_model_reg(X_all_eog[key], y_all[key], model, space, cv=10,  n_iter=20)\n",
    "    \n",
    "    csv_dict['sujeto'].append(key)\n",
    "    csv_dict['rmse'].append(rmse)\n",
    "    csv_dict['cc'].append(np.sqrt(r2))\n",
    "    csv_dict['r2'].append(r2)\n",
    "\n",
    "    plot_results_reg(X_all_eog[key], y_all[key], best_model)\n",
    "df = pd.DataFrame(csv_dict)\n",
    "df.to_csv('./results_reg/GP-PSD+EOG.csv', index=False) "
   ]
  },
  {
   "cell_type": "markdown",
   "id": "bcdddeb9-5202-424d-bf48-da943ac89d9c",
   "metadata": {},
   "source": [
    "# <a href=\"https://scikit-learn.org/stable/modules/generated/sklearn.ensemble.RandomForestRegressor.html\">Random Forest</a>"
   ]
  },
  {
   "cell_type": "code",
   "execution_count": null,
   "id": "35ac8c9f-7f0a-4c26-a1de-3c18026f1e11",
   "metadata": {
    "tags": []
   },
   "outputs": [],
   "source": [
    "from sklearn.ensemble import RandomForestRegressor"
   ]
  },
  {
   "cell_type": "markdown",
   "id": "11276bea-cfa8-4ff4-b1f9-4afdd2384a96",
   "metadata": {},
   "source": [
    "### Mean, STD, var, p05, ..."
   ]
  },
  {
   "cell_type": "code",
   "execution_count": null,
   "id": "8ba3c108-aeca-4c3a-a125-87eb4854f233",
   "metadata": {
    "jupyter": {
     "outputs_hidden": true
    },
    "tags": []
   },
   "outputs": [],
   "source": [
    "csv_dict = {\n",
    "    'sujeto': [],\n",
    "    'rmse': [],\n",
    "    'cc': [],\n",
    "    \"r2\": []\n",
    "}\n",
    "\n",
    "for file in features_files:\n",
    "    \n",
    "    X, y = read_features(f'./features/{file[:-4]}.csv')\n",
    "    #X, y = read_features(file, features=[0, 1])\n",
    "\n",
    "    scaler = MinMaxScaler(feature_range=(0, 1))\n",
    "    X_minmax = scaler.fit_transform(X)\n",
    "\n",
    "    scaler = StandardScaler()\n",
    "    X_standar = scaler.fit_transform(X)\n",
    "\n",
    "    key = file[:-4]\n",
    "    print(f\"Experiment: {key}\")\n",
    "    model = RandomForestRegressor(random_state=42)\n",
    "\n",
    "    space = dict()\n",
    "    space['n_estimators'] = randint(75, 200)\n",
    "    space['criterion'] = ['mse', 'mae']\n",
    "    space['max_depth'] = randint(75, 150)\n",
    "    space['min_samples_split'] = randint(2, 10)\n",
    "    space['min_samples_leaf'] = randint(1, 10)\n",
    "    # space['min_weight_fraction_leaf'X_all_eogform(0, 0.5)\n",
    "    space['max_features'] = [\"auto\", \"sqrt\", \"log2\"]\n",
    "    #space['max_leaf_nodes'] = randint(1, 300)\n",
    "    # space['min_impurity_decrease'] = uniform(0, 5)\n",
    "    #space['bootstrap'] = [True, False]\n",
    "    # space['oob_score'] = [True, False]\n",
    "    space['warm_start'] = [True, False]\n",
    "    # space['class_weight'] = ['balanced', 'balanced_subsample']\n",
    "    #space['ccp_alpha'] = uniform(0, 5)\n",
    "    #space['max_samples'] = uniform(0, 1)\n",
    "\n",
    "    best_model, rmse, r2 = find_and_test_best_model_reg(X_minmax, y, model, space, cv=10,  n_iter=10)\n",
    "    \n",
    "    csv_dict['sujeto'].append(key)\n",
    "    csv_dict['rmse'].append(rmse)\n",
    "    csv_dict['cc'].append(np.sqrt(r2))\n",
    "    csv_dict['r2'].append(r2)\n",
    "\n",
    "    plot_results_reg(X_minmax, y, best_model)\n",
    "    \n",
    "df = pd.DataFrame(csv_dict)\n",
    "df.to_csv('./results_reg/RF-EEG.csv', index=False)"
   ]
  },
  {
   "cell_type": "markdown",
   "id": "03bec732-22dd-4fa8-b390-db48ea765df7",
   "metadata": {},
   "source": [
    "### PSD"
   ]
  },
  {
   "cell_type": "code",
   "execution_count": null,
   "id": "814c8187-7dd0-4b71-9696-bd6513a5d50a",
   "metadata": {
    "jupyter": {
     "outputs_hidden": true
    },
    "tags": []
   },
   "outputs": [],
   "source": [
    "key = '21_20151016_noon'\n",
    "\n",
    "csv_dict = {\n",
    "    'sujeto': [],\n",
    "    'rmse': [],\n",
    "    'cc': [],\n",
    "    \"r2\": []\n",
    "}\n",
    "\n",
    "for key in X_all:\n",
    "    print(f\"Experiment: {key}\")\n",
    "    model = RandomForestRegressor(random_state=42)\n",
    "\n",
    "    space = dict()\n",
    "    space['n_estimators'] = randint(75, 200)\n",
    "    space['criterion'] = ['mse', 'mae']\n",
    "    space['max_depth'] = randint(75, 150)\n",
    "    space['min_samples_split'] = randint(2, 10)\n",
    "    space['min_samples_leaf'] = randint(1, 10)\n",
    "    # space['min_weight_fraction_leaf'X_all_eogform(0, 0.5)\n",
    "    space['max_features'] = [\"auto\", \"sqrt\", \"log2\"]\n",
    "    #space['max_leaf_nodes'] = randint(1, 300)\n",
    "    # space['min_impurity_decrease'] = uniform(0, 5)\n",
    "    #space['bootstrap'] = [True, False]\n",
    "    # space['oob_score'] = [True, False]\n",
    "    space['warm_start'] = [True, False]\n",
    "    # space['class_weight'] = ['balanced', 'balanced_subsample']\n",
    "    #space['ccp_alpha'] = uniform(0, 5)\n",
    "    #space['max_samples'] = uniform(0, 1)\n",
    "\n",
    "    best_model, rmse, r2 = find_and_test_best_model_reg(X_all[key], y_all[key], model, space, cv=10,  n_iter=20)\n",
    "    \n",
    "    csv_dict['sujeto'].append(key)\n",
    "    csv_dict['rmse'].append(rmse)\n",
    "    csv_dict['cc'].append(np.sqrt(r2))\n",
    "    csv_dict['r2'].append(r2)\n",
    "\n",
    "    #     plot_results_reg(X_all[key], y_all[key], best_model)\n",
    "    \n",
    "df = pd.DataFrame(csv_dict)\n",
    "df.to_csv('./results_reg/RF-PSD.csv', index=False) "
   ]
  },
  {
   "cell_type": "code",
   "execution_count": null,
   "id": "d81adaac-067b-4f9c-bc26-d47000bf2049",
   "metadata": {},
   "outputs": [],
   "source": [
    "key = '5_20141108_noon'\n",
    "print(f\"Experiment: {key}\")\n",
    "model = RandomForestRegressor(random_state=42)\n",
    "\n",
    "space = dict()\n",
    "space['n_estimators'] = randint(75, 200)\n",
    "space['criterion'] = ['mse', 'mae']\n",
    "space['max_depth'] = randint(75, 150)\n",
    "space['min_samples_split'] = randint(2, 10)\n",
    "space['min_samples_leaf'] = randint(1, 10)\n",
    "# space['min_weight_fraction_leaf'X_all_eogform(0, 0.5)\n",
    "space['max_features'] = [\"auto\", \"sqrt\", \"log2\"]\n",
    "#space['max_leaf_nodes'] = randint(1, 300)\n",
    "# space['min_impurity_decrease'] = uniform(0, 5)\n",
    "#space['bootstrap'] = [True, False]\n",
    "# space['oob_score'] = [True, False]\n",
    "space['warm_start'] = [True, False]\n",
    "# space['class_weight'] = ['balanced', 'balanced_subsample']\n",
    "#space['ccp_alpha'] = uniform(0, 5)\n",
    "#space['max_samples'] = uniform(0, 1)\n",
    "\n",
    "best_model, rmse, r2 = find_and_test_best_model_reg(X_all_eog[key], y_all[key], model, space, cv=10,  n_iter=20)"
   ]
  },
  {
   "cell_type": "code",
   "execution_count": null,
   "id": "c28accec-01da-4f26-9f67-a793086a9260",
   "metadata": {},
   "outputs": [],
   "source": [
    "attribs = ['psd_delta', 'psd_theta', 'psd_alpha', 'psd_betha', 'psd_gamma', 'n_parpadeos']\n",
    "importances = best_model.feature_importances_\n",
    "importance_features = sorted(zip(importances, attribs), reverse=True)\n",
    "for imp, attr in importance_features:\n",
    "    print(f'{attr}: {imp:.4f}')"
   ]
  },
  {
   "cell_type": "code",
   "execution_count": null,
   "id": "905a32f6-f1ac-4481-98ac-7ffeff577db6",
   "metadata": {},
   "outputs": [],
   "source": [
    "plt.figure(figsize=(20, 8))\n",
    "plt.plot(y_all[key], color=\"black\", label=\"real\", zorder=0, linewidth=3)\n",
    "predictions = best_model.predict(X_all_eog[key])\n",
    "predictions = np.clip(predictions, 0, 1)\n",
    "# plt.plot(predictions, color=\"red\", label=\"predicted\", linewidth=3)\n",
    "\n",
    "size_label = 26; plt.xlabel('Epoch', fontweight ='bold', labelpad = 10,fontsize = size_label); plt.ylabel('PERCLOS', fontweight ='bold', labelpad = 10,fontsize = size_label);\n",
    "size_ticks = 20; plt.xticks(fontsize=size_ticks); plt.yticks(fontsize=size_ticks);\n",
    "size_legend = 20; plt.legend(loc='best', fontsize = size_legend)\n",
    "plt.savefig(\"E:/UNIVERSIDAD/TFG/TRABAJO/Images-Test/NOMBRE.pdf\", bbox_inches='tight')\n",
    "\n",
    "plt.show()"
   ]
  },
  {
   "cell_type": "markdown",
   "id": "98aacd99-4bd8-4363-805b-d5e122fabe44",
   "metadata": {},
   "source": [
    "### PSD + EOG"
   ]
  },
  {
   "cell_type": "code",
   "execution_count": null,
   "id": "dc78b84d-a416-4517-be76-2fa9c6948f5c",
   "metadata": {
    "tags": []
   },
   "outputs": [],
   "source": [
    "key = '21_20151016_noon'\n",
    "\n",
    "csv_dict = {\n",
    "    'sujeto': [],\n",
    "    'rmse': [],\n",
    "    'cc': [],\n",
    "    \"r2\": []\n",
    "}\n",
    "\n",
    "for key in X_all:\n",
    "    print(f\"Experiment: {key}\")\n",
    "    model = RandomForestRegressor(random_state=42)\n",
    "\n",
    "    space = dict()\n",
    "    space['n_estimators'] = randint(75, 200)\n",
    "    space['criterion'] = ['mse', 'mae']\n",
    "    space['max_depth'] = randint(75, 150)\n",
    "    space['min_samples_split'] = randint(2, 10)\n",
    "    space['min_samples_leaf'] = randint(1, 10)\n",
    "    # space['min_weight_fraction_leaf'X_all_eogform(0, 0.5)\n",
    "    space['max_features'] = [\"auto\", \"sqrt\", \"log2\"]\n",
    "    #space['max_leaf_nodes'] = randint(1, 300)\n",
    "    # space['min_impurity_decrease'] = uniform(0, 5)\n",
    "    #space['bootstrap'] = [True, False]\n",
    "    # space['oob_score'] = [True, False]\n",
    "    space['warm_start'] = [True, False]\n",
    "    # space['class_weight'] = ['balanced', 'balanced_subsample']\n",
    "    #space['ccp_alpha'] = uniform(0, 5)\n",
    "    #space['max_samples'] = uniform(0, 1)\n",
    "\n",
    "    best_model, rmse, r2 = find_and_test_best_model_reg(X_all_eog[key], y_all[key], model, space, cv=10,  n_iter=20)\n",
    "    \n",
    "    csv_dict['sujeto'].append(key)\n",
    "    csv_dict['rmse'].append(rmse)\n",
    "    csv_dict['cc'].append(np.sqrt(r2))\n",
    "    csv_dict['r2'].append(r2)\n",
    "\n",
    "    plot_results_reg(X_all_eog[key], y_all[key], best_model)\n",
    "    \n",
    "# df = pd.DataFrame(csv_dict)\n",
    "# df.to_csv('./results_reg/RF-PSD+EOG.csv', index=False) "
   ]
  },
  {
   "cell_type": "markdown",
   "id": "2ed7b786-251d-45a2-b77e-55f39597d30c",
   "metadata": {},
   "source": []
  }
 ],
 "metadata": {
  "kernelspec": {
   "display_name": "Python 3 (ipykernel)",
   "language": "python",
   "name": "python3"
  },
  "language_info": {
   "codemirror_mode": {
    "name": "ipython",
    "version": 3
   },
   "file_extension": ".py",
   "mimetype": "text/x-python",
   "name": "python",
   "nbconvert_exporter": "python",
   "pygments_lexer": "ipython3",
   "version": "3.10.4"
  },
  "toc-autonumbering": true
 },
 "nbformat": 4,
 "nbformat_minor": 5
}
