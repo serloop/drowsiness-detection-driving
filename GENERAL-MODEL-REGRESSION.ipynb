{
 "cells": [
  {
   "cell_type": "markdown",
   "id": "dd88abaf-46d4-4a36-9351-4250d2a50b68",
   "metadata": {},
   "source": [
    "# TEST CON FEATURES DEL PSD"
   ]
  },
  {
   "cell_type": "markdown",
   "id": "e09c77ec-7562-4988-b03d-1ec5d8ca6b50",
   "metadata": {},
   "source": [
    "# Generar 'X' e 'y' para todos los experimentos\n",
    "<p>Como datos para las X se toma la media de los 17 canales de:</p>\n",
    "<ul>\n",
    "    <li>X_1: PSD de la banda delta (1~4Hz)</li>\n",
    "    <li>X_2: PSD de la banda theta (4~8Hz)</li>\n",
    "    <li>X_3: PSD de la banda alpha (8~14Hz)</li>\n",
    "    <li>X_4: PSD de la banda beta (14~31Hz)</li>\n",
    "    <li>X_5: PSD de la banda gamma (31~50 Hz)</li>\n",
    "</ul>"
   ]
  },
  {
   "cell_type": "code",
   "execution_count": null,
   "id": "072fe0e9-03e8-4705-ab92-0d9d129f12c5",
   "metadata": {},
   "outputs": [],
   "source": [
    "import mne\n",
    "from mne.externals.pymatreader import read_mat\n",
    "\n",
    "from read import read_features\n",
    "\n",
    "import matplotlib\n",
    "import matplotlib.pyplot as plt\n",
    "\n",
    "import numpy as np\n",
    "\n",
    "import pandas as pd\n",
    "\n",
    "from sklearn.preprocessing import MinMaxScaler\n",
    "from sklearn.preprocessing import StandardScaler"
   ]
  },
  {
   "cell_type": "code",
   "execution_count": null,
   "id": "ac39ff71-b05b-4f8c-b0fd-5fc6b3462faf",
   "metadata": {},
   "outputs": [],
   "source": [
    "labels = {\n",
    "    'leve': 0,\n",
    "    'moderada': 1,\n",
    "    'severa': 2\n",
    "}\n",
    "\n",
    "def parse_y(y, lim_leve=0.075, lim_moderada=0.15):\n",
    "    def classify(val):\n",
    "        if (val <= lim_leve):\n",
    "            return labels['leve']\n",
    "        if (val <= lim_moderada):\n",
    "            return labels['moderada']\n",
    "        return labels['severa']\n",
    "    \n",
    "    len_y = len(y)\n",
    "    classified = np.zeros(len_y, dtype=int)\n",
    "    \n",
    "    for i in range(len_y):\n",
    "        classified[i] = classify(y[i])\n",
    "        \n",
    "    return classified"
   ]
  },
  {
   "cell_type": "code",
   "execution_count": null,
   "id": "80b3c7fc-b100-48c9-87f9-234676691435",
   "metadata": {
    "tags": []
   },
   "outputs": [],
   "source": [
    "# Las que mejores graficas tienen\n",
    "# features_files = ['4_20151105_noon.mat', '4_20151107_noon.mat', '5_20141108_noon.mat','12_20150928_noon.mat','14_20151014_night.mat', '18_20150926_noon.mat', '21_20151016_noon.mat']\n",
    "\n",
    "# features_files = ['4_20151105_noon.mat', '5_20141108_noon.mat', '21_20151016_noon.mat']\n",
    "\n",
    "features_files = ['1_20151124_noon_2.csv', '2_20151106_noon.csv', '3_20151024_noon.csv','4_20151105_noon.csv', '4_20151107_noon.csv',\n",
    "            '5_20141108_noon.csv', '5_20151012_night.csv', '6_20151121_noon.csv','7_20151015_night.csv', '8_20151022_noon.csv', \n",
    "            '9_20151017_night.csv', '10_20151125_noon.csv', '11_20151024_night.csv', '12_20150928_noon.csv', '13_20150929_noon.csv',\n",
    "            '14_20151014_night.csv','15_20151126_night.csv', '16_20151128_night.csv', '17_20150925_noon.csv', '18_20150926_noon.csv',\n",
    "            '19_20151114_noon.csv', '20_20151129_night.csv', '21_20151016_noon.csv']\n",
    "\n",
    "# features_files = ['21_20151016_noon.csv']\n",
    "\n",
    "X_all = {} # psd\n",
    "X_all_eog = {} # psd + eog\n",
    "y_all = {} # datos perclos raw\n",
    "y_all_limits = {} # thresholds perclos para cada experimento\n",
    "y_all_class = {} # datos parseados a su clase\n",
    "\n",
    "for experiment in features_files:\n",
    "    \n",
    "    ''' EOG parpadeos por epoch'''\n",
    "    mat_data = read_mat(f'./SEED-VIG/Raw_Data/{experiment[:-4]}.mat')\n",
    "    \n",
    "    sfreq = mat_data['EOG']['eog_config']['current_sample_rate']\n",
    "    samples = mat_data['EOG']['eog_h']*1e-6 \n",
    "    samples = np.vstack((samples, mat_data['EOG']['eog_v']*1e-6))\n",
    "\n",
    "    ch_names = ['EOG_H', 'EOG_V']\n",
    "    ch_types = [\"eog\"]*len(ch_names)\n",
    "\n",
    "    info = mne.create_info(ch_names=ch_names, sfreq=sfreq, ch_types=ch_types)\n",
    "\n",
    "    info.set_montage('standard_1020')\n",
    "    \n",
    "    raw = mne.io.RawArray(samples, info, verbose=False)\n",
    "    \n",
    "    # Busqueda del treshold para el parpadeo\n",
    "    # En los 5 primeros segundos del experimento, buscamos el percentil 2.5 y calculamos su valor absoluto como threshold para detectar parpadeos\n",
    "    threshold = abs(np.percentile(raw.get_data()[1][:5*1000], 2.5))\n",
    "    \n",
    "    blinks = mne.preprocessing.find_eog_events(raw, filter_length='10s', thresh=threshold, verbose=False)\n",
    "    blinks = blinks.T[0]\n",
    "    \n",
    "    n_samples = 885\n",
    "    dur_sample = 8 # segs\n",
    "    len_sample = 8*125\n",
    "    \n",
    "    blinks_per_sample = []\n",
    "    for i in range(n_samples):\n",
    "        blinks_per_sample.append([])\n",
    "        \n",
    "    for val in blinks:\n",
    "        blinks_per_sample[val//len_sample].append(val)\n",
    "    \n",
    "    n_blinks_per_sample = [0]*n_samples\n",
    "        \n",
    "    for i in range(885):\n",
    "        n_blinks_per_sample[i] = len(blinks_per_sample[i])\n",
    "        \n",
    "    scaler = MinMaxScaler(feature_range=(0, 1))\n",
    "    n_blinks_per_sample = np.array(n_blinks_per_sample)\n",
    "    n_blinks_per_sample = scaler.fit_transform(n_blinks_per_sample.reshape(-1,1))\n",
    "    \n",
    "    \n",
    "    ''' PSD '''\n",
    "    mat_data = read_mat(f'./SEED-VIG/EEG_Feature_5Bands/{experiment[:-4]}.mat')\n",
    "    perclos_data = read_mat(f'./SEED-VIG/perclos_labels/{experiment[:-4]}.mat')\n",
    "    y = np.array(perclos_data['perclos'])\n",
    "\n",
    "    n_channels = 17\n",
    "    psd_data = mat_data['psd_movingAve']\n",
    "    perclos = []\n",
    "    psd_delta = []\n",
    "    psd_theta = []\n",
    "    psd_alpha = []\n",
    "    psd_beta = []\n",
    "    psd_gamma = []\n",
    "    start = 0\n",
    "    end = 885\n",
    "    for t in range(start, end):\n",
    "        vals= np.zeros(5)\n",
    "\n",
    "        for i in range(n_channels):\n",
    "            vals[0] += psd_data[i][t][0]\n",
    "            vals[1] += psd_data[i][t][1]\n",
    "            vals[2] += psd_data[i][t][2]\n",
    "            vals[3] += psd_data[i][t][3]\n",
    "            vals[4] += psd_data[i][t][4]\n",
    "        vals /= 17\n",
    "\n",
    "        perclos.append(y[t])\n",
    "        psd_delta.append(vals[0])\n",
    "        psd_theta.append(vals[1])\n",
    "        psd_alpha.append(vals[2])\n",
    "        psd_beta.append(vals[3])\n",
    "        psd_gamma.append(vals[4])\n",
    "\n",
    "    \n",
    "    scaler = MinMaxScaler(feature_range=(0, 1))\n",
    "    psd_delta = np.array(psd_delta)\n",
    "    psd_delta = scaler.fit_transform(psd_delta.reshape(-1,1))\n",
    "\n",
    "    scaler = MinMaxScaler(feature_range=(0, 1))\n",
    "    psd_theta = np.array(psd_theta)\n",
    "    psd_theta = scaler.fit_transform(psd_theta.reshape(-1,1))\n",
    "\n",
    "    scaler = MinMaxScaler(feature_range=(0, 1))\n",
    "    psd_alpha = np.array(psd_alpha)\n",
    "    psd_alpha = scaler.fit_transform(psd_alpha.reshape(-1,1))\n",
    "\n",
    "    scaler = MinMaxScaler(feature_range=(0, 1))\n",
    "    psd_beta = np.array(psd_beta)\n",
    "    psd_beta = scaler.fit_transform(psd_beta.reshape(-1,1))\n",
    "    \n",
    "    scaler = MinMaxScaler(feature_range=(0, 1))\n",
    "    psd_gamma = np.array(psd_gamma)\n",
    "    psd_gamma = scaler.fit_transform(psd_gamma.reshape(-1,1))\n",
    "\n",
    "    X = psd_delta\n",
    "    X = np.hstack((X, psd_theta))\n",
    "    X = np.hstack((X, psd_alpha))\n",
    "    X = np.hstack((X, psd_beta))\n",
    "    ''' DESCOMENTAR PARA USAR PSD DE GAMMA '''\n",
    "    X = np.hstack((X, psd_gamma))\n",
    "    \n",
    "    X_all[f'{experiment[:-4]}'] = X # guardamos los psd\n",
    "    \n",
    "    X = np.hstack((X, n_blinks_per_sample))\n",
    "    \n",
    "    X_all_eog[f'{experiment[:-4]}'] = X # guardamos psd + eog\n",
    "    \n",
    "    ''' LABELS '''\n",
    "    y_all[f'{experiment[:-4]}'] = y # guardamos perclos raw\n",
    "    \n",
    "    range_values = (np.max(y)-np.min(y))/100\n",
    "    lim_leve = np.min(y)+range_values*12.5\n",
    "    lim_moderada = np.min(y)+range_values*30\n",
    "    y_all_limits[f'{experiment[:-4]}'] = [lim_leve, lim_moderada]\n",
    "    \n",
    "    y_all_class[f'{experiment[:-4]}'] = parse_y(y, lim_leve, lim_moderada) # guardamos ya clasificada\n",
    "    \n",
    "print(f'Generados los diccionarios X_all e y_all')"
   ]
  },
  {
   "cell_type": "code",
   "execution_count": null,
   "id": "fdee812e-c7b2-482e-97a1-38a02a22325c",
   "metadata": {
    "tags": []
   },
   "outputs": [],
   "source": [
    "print(X_all_eog['1_20151124_noon_2'].shape)\n",
    "\n",
    "for key in X_all:\n",
    "    print(key)"
   ]
  },
  {
   "cell_type": "markdown",
   "id": "1c4cd1e1-56a1-49cf-84a6-bb4ba224498d",
   "metadata": {},
   "source": [
    "# Para busqueda de hyperparametros y plotear resultados/metricas"
   ]
  },
  {
   "cell_type": "markdown",
   "id": "dd199370-877a-4112-9bae-7f9380d5f99d",
   "metadata": {},
   "source": [
    "## Regresion"
   ]
  },
  {
   "cell_type": "code",
   "execution_count": null,
   "id": "af19aecf-df55-4fbe-a21a-d8af8aa00c85",
   "metadata": {},
   "outputs": [],
   "source": [
    "from sklearn.model_selection import RandomizedSearchCV\n",
    "\n",
    "from sklearn.model_selection import StratifiedShuffleSplit\n",
    "\n",
    "from sklearn.model_selection import train_test_split\n",
    "\n",
    "from sklearn.metrics import mean_absolute_error, mean_squared_error, r2_score\n",
    "\n",
    "from scipy.stats import uniform, randint, loguniform, gamma\n",
    "\n",
    "def find_and_test_best_model_reg(X, y, model, space, cv=10, n_iter=100, scoring=None):\n",
    "    \n",
    "    X_train, X_test, y_train, y_test = train_test_split(X, y, test_size=0.25, random_state=42)\n",
    "    \n",
    "    search = RandomizedSearchCV(model, space, n_iter=n_iter, scoring=scoring, n_jobs=-1, cv=cv, random_state=42)\n",
    "    result = search.fit(X_train, y_train)\n",
    "    \n",
    "    print(f\"Best Model:\")\n",
    "    print(f\"\\tScore: {result.best_score_:.4f}\")\n",
    "    print(f\"\\tHyperparameters: {result.best_params_}\")\n",
    "    \n",
    "    print('\\nResults with X_test:')\n",
    "    best_model = result.best_estimator_\n",
    "    final_predictions = best_model.predict(X_test)\n",
    "    # Por si los valores son mayores de 1 o menores que 0\n",
    "    final_predictions = np.clip(final_predictions, 0, 1)\n",
    "    \n",
    "    rmse = np.sqrt(mean_squared_error(y_test, final_predictions))\n",
    "    print(f\"\\tRMSE: {rmse:.4f}\")\n",
    "    \n",
    "    # represents the proportion of variance (of y) that has been explained by the independent variables in the model\n",
    "    r2 = r2_score(y_test, final_predictions)\n",
    "    print(f\"\\tr^2: {r2:.4f}\")\n",
    "    \n",
    "    return best_model, rmse, r2\n",
    "\n",
    "def plot_results_reg(X, y, model):\n",
    "    plt.figure(figsize=(20, 8))\n",
    "    plt.plot(y, color=\"black\", label=\"real\", zorder=0)\n",
    "    predictions = model.predict(X)\n",
    "    predictions = np.clip(predictions, 0, 1)\n",
    "    plt.plot(predictions, color=\"red\", label=\"predicted\")\n",
    "    plt.xlabel('Epoch')\n",
    "    plt.ylabel('% PERCLOS')\n",
    "    plt.legend(loc='best')\n",
    "    plt.show()"
   ]
  },
  {
   "cell_type": "markdown",
   "id": "e2247c03-b67e-477c-aa5b-8f3350205cb3",
   "metadata": {},
   "source": [
    "## Juntamos todos los datos en un solo X e y"
   ]
  },
  {
   "cell_type": "code",
   "execution_count": null,
   "id": "8f5391bc-3933-43fd-aea7-d5306e2b94e7",
   "metadata": {},
   "outputs": [],
   "source": [
    "from read import read_features\n",
    "\n",
    "X = []\n",
    "X_eog = []\n",
    "X_eeg = []\n",
    "y = []\n",
    "y_class = []\n",
    "\n",
    "for key in X_all:\n",
    "    X.append(X_all[key])\n",
    "    X_eog.append(X_all_eog[key])\n",
    "    aux, aux2 = read_features(f'./features/{key}.csv')\n",
    "    scaler = MinMaxScaler(feature_range=(0, 1))\n",
    "    aux_minmax = scaler.fit_transform(aux)\n",
    "    X_eeg.append(aux_minmax)\n",
    "    \n",
    "    y.append(y_all[key])\n",
    "    y_class.append(y_all_class[key])\n",
    "\n",
    "X = np.array(X)\n",
    "X = X.reshape((X.shape[0]*X.shape[1], X.shape[2]))\n",
    "X_eog = np.array(X_eog)\n",
    "X_eog = X_eog.reshape((X_eog.shape[0]*X_eog.shape[1], X_eog.shape[2]))\n",
    "X_eeg = np.array(X_eeg)\n",
    "X_eeg = X_eeg.reshape((X_eeg.shape[0]*X_eeg.shape[1], X_eeg.shape[2]))\n",
    "\n",
    "y = np.array(y)\n",
    "y = y.reshape((y.shape[0]*y.shape[1]))"
   ]
  },
  {
   "cell_type": "code",
   "execution_count": null,
   "id": "70ec4864-c16d-464f-8c82-864dcb0aea26",
   "metadata": {},
   "outputs": [],
   "source": [
    "print(f'{X.shape}, {X_eog.shape}, {X_eeg.shape}, {y.shape}')"
   ]
  },
  {
   "cell_type": "markdown",
   "id": "b980a922-0c90-4bf7-a3a1-eff46c4157a4",
   "metadata": {},
   "source": [
    "# Modelo General\n",
    "Se entrena con todos los datos de los experimentos"
   ]
  },
  {
   "cell_type": "markdown",
   "id": "84c72dbd-47ac-4c1a-977e-84cc7f190f85",
   "metadata": {},
   "source": [
    "## SMV-r"
   ]
  },
  {
   "cell_type": "code",
   "execution_count": null,
   "id": "ef469bc0-9440-4734-b99b-68e48cb8538b",
   "metadata": {},
   "outputs": [],
   "source": [
    "from sklearn.svm import SVR"
   ]
  },
  {
   "cell_type": "markdown",
   "id": "825819dd-5420-4a3e-8f03-f95316d41e7c",
   "metadata": {},
   "source": [
    "### SMV-r EEG"
   ]
  },
  {
   "cell_type": "code",
   "execution_count": null,
   "id": "1c582d3a-499a-43ba-8e0b-189e66f131df",
   "metadata": {},
   "outputs": [],
   "source": [
    "print(f\"Experiment: Modelo General SVM-r EEG\")\n",
    "model = SVR()\n",
    "\n",
    "space = dict()\n",
    "\n",
    "space['kernel'] = ['linear', 'rbf']\n",
    "space['gamma'] = ['scale', 'auto']\n",
    "space['tol'] = uniform(1e-5, 1e-1)\n",
    "space['C'] = randint(1, 500)\n",
    "space['epsilon'] = uniform(0.01, 0.5)\n",
    "space['shrinking'] = [True, False]\n",
    "\n",
    "general_model, rmse, r2 = find_and_test_best_model_reg(X_eeg, y, model, space, cv=10,  n_iter=10)\n",
    "\n",
    "for key in X_all:   \n",
    "    data, aux2 = read_features(f'./features/{key}.csv')\n",
    "    scaler = MinMaxScaler(feature_range=(0, 1))\n",
    "    data_minmax = scaler.fit_transform(data_minmax)\n",
    "    expected = y_all[key]\n",
    "    predictions = general_model.predict(data)\n",
    "    local_rmse = np.sqrt(mean_squared_error(expected, predictions))\n",
    "    local_r2 = r2_score(expected, predictions)\n",
    "\n",
    "    print(f'Experiment: {key}')\n",
    "    print(f\"\\tRMSE: {local_rmse:.4f}\")\n",
    "    print(f\"\\tr^2: {local_r2:.4f}\")\n",
    "\n",
    "    plt.figure(figsize=(20, 8))\n",
    "    plt.plot(expected, color=\"black\", label=\"real\")\n",
    "    plt.plot(predictions, color=\"red\", label=\"predicted\")\n",
    "    plt.xlabel('Epoch')\n",
    "    plt.ylabel('% PERCLOS')\n",
    "    plt.legend(loc='best')\n",
    "    plt.ylim(0, 1.1)\n",
    "    plt.show()"
   ]
  },
  {
   "cell_type": "code",
   "execution_count": null,
   "id": "beb4165a-223f-4a72-b68c-e7e9e87622dd",
   "metadata": {},
   "outputs": [],
   "source": [
    "for key in X_all:   \n",
    "    data, aux2 = read_features(f'./features/{key}.csv')\n",
    "    scaler = MinMaxScaler(feature_range=(0, 1))\n",
    "    data_minmax = scaler.fit_transform(data_minmax)\n",
    "    expected = y_all[key]\n",
    "    predictions = general_model.predict(data)\n",
    "    local_rmse = np.sqrt(mean_squared_error(expected, predictions))\n",
    "    local_r2 = r2_score(expected, predictions)\n",
    "\n",
    "    print(f'Experiment: {key}')\n",
    "    print(f\"\\tRMSE: {local_rmse:.4f}\")\n",
    "    print(f\"\\tr^2: {local_r2:.4f}\")\n",
    "\n",
    "    plt.figure(figsize=(20, 8))\n",
    "    plt.plot(expected, color=\"black\", label=\"real\")\n",
    "    plt.plot(predictions, color=\"red\", label=\"predicted\")\n",
    "    plt.xlabel('Epoch')\n",
    "    plt.ylabel('% PERCLOS')\n",
    "    plt.legend(loc='best')\n",
    "    plt.ylim(0, 1.1)\n",
    "    plt.show()"
   ]
  },
  {
   "cell_type": "markdown",
   "id": "80941e09-1a5b-44cc-8756-f5e44a8c7dff",
   "metadata": {},
   "source": [
    "### SMV-r PSD"
   ]
  },
  {
   "cell_type": "code",
   "execution_count": null,
   "id": "f5d206a2-ed36-41f3-9029-884503527412",
   "metadata": {},
   "outputs": [],
   "source": [
    "print(f\"Experiment: Modelo General SVM-r PSD\")\n",
    "model = SVR()\n",
    "\n",
    "space = dict()\n",
    "\n",
    "space['kernel'] = ['linear', 'rbf']\n",
    "space['gamma'] = ['scale', 'auto']\n",
    "space['tol'] = uniform(1e-5, 1e-1)\n",
    "space['C'] = randint(1, 500)\n",
    "space['epsilon'] = uniform(0.01, 0.5)\n",
    "space['shrinking'] = [True, False]\n",
    "\n",
    "general_model, rmse, r2 = find_and_test_best_model_reg(X, y, model, space, cv=10,  n_iter=10)"
   ]
  },
  {
   "cell_type": "code",
   "execution_count": null,
   "id": "144a3978-cb1a-47a5-a6db-f047aa0c57e5",
   "metadata": {
    "jupyter": {
     "outputs_hidden": true
    },
    "tags": []
   },
   "outputs": [],
   "source": [
    "for key in X_all:\n",
    "    data = X_all[key]\n",
    "    expected = y_all[key]\n",
    "    predictions = general_model.predict(data)\n",
    "    local_rmse = np.sqrt(mean_squared_error(expected, predictions))\n",
    "    local_r2 = r2_score(expected, predictions)\n",
    "\n",
    "    print(f'Experiment: {key}')\n",
    "    print(f\"\\tRMSE: {local_rmse:.4f}\")\n",
    "    print(f\"\\tr^2: {local_r2:.4f}\")\n",
    "\n",
    "    plt.figure(figsize=(20, 8))\n",
    "    plt.plot(expected, color=\"black\", label=\"real\")\n",
    "    plt.plot(predictions, color=\"red\", label=\"predicted\")\n",
    "    plt.xlabel('Epoch')\n",
    "    plt.ylabel('% PERCLOS')\n",
    "    plt.legend(loc='best')\n",
    "    plt.ylim(0, 1.1)\n",
    "    plt.show()"
   ]
  },
  {
   "cell_type": "markdown",
   "id": "45e590a3-8e47-4964-943c-8547540439c6",
   "metadata": {},
   "source": [
    "### SMV-r PSD + EOG"
   ]
  },
  {
   "cell_type": "code",
   "execution_count": null,
   "id": "8d301867-627f-489c-83d2-aad8bcc7e10a",
   "metadata": {},
   "outputs": [],
   "source": [
    "print(f\"Experiment: Modelo General SVM-r PSD + EOG\")\n",
    "model = SVR()\n",
    "\n",
    "space = dict()\n",
    "\n",
    "space['kernel'] = ['linear', 'rbf']\n",
    "space['gamma'] = ['scale', 'auto']\n",
    "space['tol'] = uniform(1e-5, 1e-1)\n",
    "space['C'] = randint(1, 500)\n",
    "space['epsilon'] = uniform(0.01, 0.5)\n",
    "space['shrinking'] = [True, False]\n",
    "\n",
    "general_model, rmse, r2 = find_and_test_best_model_reg(X_eog, y, model, space, cv=10,  n_iter=10)"
   ]
  },
  {
   "cell_type": "code",
   "execution_count": null,
   "id": "c5553977-8616-4b71-9b2c-58eb8885eb78",
   "metadata": {},
   "outputs": [],
   "source": [
    "for key in X_all:\n",
    "    data = X_all_eog[key]\n",
    "    expected = y_all[key]\n",
    "    predictions = general_model.predict(data)\n",
    "    local_rmse = np.sqrt(mean_squared_error(expected, predictions))\n",
    "    local_r2 = r2_score(expected, predictions)\n",
    "\n",
    "    print(f'Experiment: {key}')\n",
    "    print(f\"\\tRMSE: {local_rmse:.4f}\")\n",
    "    print(f\"\\tr^2: {local_r2:.4f}\")\n",
    "\n",
    "    plt.figure(figsize=(20, 8))\n",
    "    plt.plot(expected, color=\"black\", label=\"real\")\n",
    "    plt.plot(predictions, color=\"red\", label=\"predicted\")\n",
    "    plt.xlabel('Epoch')\n",
    "    plt.ylabel('% PERCLOS')\n",
    "    plt.legend(loc='best')\n",
    "    plt.ylim(0, 1.1)\n",
    "    plt.show()"
   ]
  },
  {
   "cell_type": "markdown",
   "id": "ea5c4d03-2441-4648-9134-d9796b3fc5d3",
   "metadata": {},
   "source": [
    "## KNN"
   ]
  },
  {
   "cell_type": "code",
   "execution_count": null,
   "id": "61f58ede-6007-4d96-b610-f0f04d233213",
   "metadata": {},
   "outputs": [],
   "source": [
    "from sklearn.neighbors import KNeighborsRegressor"
   ]
  },
  {
   "cell_type": "markdown",
   "id": "a3bdc20d-3dec-45ca-8034-a0f1894313e8",
   "metadata": {},
   "source": [
    "### KNN PSD"
   ]
  },
  {
   "cell_type": "code",
   "execution_count": null,
   "id": "44e36258-97ac-4b75-9e49-6d9f140fffea",
   "metadata": {},
   "outputs": [],
   "source": [
    "print(f\"Experiment: Modelo General KNN EEG\")\n",
    "model = KNeighborsRegressor(n_jobs=-1)\n",
    "\n",
    "space = dict()\n",
    "space['n_neighbors'] = randint(3, 25)\n",
    "space['weights'] = ['uniform', 'distance']\n",
    "space['algorithm'] = ['auto', 'ball_tree', 'kd_tree', 'brute']\n",
    "space['leaf_size'] = randint(15, 45)\n",
    "space['p'] = [1, 2]\n",
    "\n",
    "general_model, rmse, r2 = find_and_test_best_model_reg(X, y, model, space, cv=10,  n_iter=15)\n",
    "\n",
    "for key in X_all:   \n",
    "    data, aux2 = read_features(f'./features/{key}.csv')\n",
    "    scaler = MinMaxScaler(feature_range=(0, 1))\n",
    "    data_minmax = scaler.fit_transform(data_minmax)\n",
    "    expected = y_all[key]\n",
    "    predictions = general_model.predict(data)\n",
    "    local_rmse = np.sqrt(mean_squared_error(expected, predictions))\n",
    "    local_r2 = r2_score(expected, predictions)\n",
    "\n",
    "    print(f'Experiment: {key}')\n",
    "    print(f\"\\tRMSE: {local_rmse:.4f}\")\n",
    "    print(f\"\\tr^2: {local_r2:.4f}\")\n",
    "\n",
    "    plt.figure(figsize=(20, 8))\n",
    "    plt.plot(expected, color=\"black\", label=\"real\")\n",
    "    plt.plot(predictions, color=\"red\", label=\"predicted\")\n",
    "    plt.xlabel('Epoch')\n",
    "    plt.ylabel('% PERCLOS')\n",
    "    plt.legend(loc='best')\n",
    "    plt.ylim(0, 1.1)\n",
    "    plt.show()"
   ]
  },
  {
   "cell_type": "markdown",
   "id": "44ff4b7d-1ed8-4f9a-9be8-43682575f553",
   "metadata": {},
   "source": [
    "### KNN PSD"
   ]
  },
  {
   "cell_type": "code",
   "execution_count": null,
   "id": "a1b2caee-965d-4cad-b925-5c365b4c487d",
   "metadata": {},
   "outputs": [],
   "source": [
    "print(f\"Experiment: Modelo General KNN PSD\")\n",
    "model = KNeighborsRegressor(n_jobs=-1)\n",
    "\n",
    "space = dict()\n",
    "space['n_neighbors'] = randint(3, 25)\n",
    "space['weights'] = ['uniform', 'distance']\n",
    "space['algorithm'] = ['auto', 'ball_tree', 'kd_tree', 'brute']\n",
    "space['leaf_size'] = randint(15, 45)\n",
    "space['p'] = [1, 2]\n",
    "\n",
    "general_model, rmse, r2 = find_and_test_best_model_reg(X, y, model, space, cv=10,  n_iter=15)"
   ]
  },
  {
   "cell_type": "code",
   "execution_count": null,
   "id": "a891981e-f91d-4b85-a742-60a6ab2a2dc1",
   "metadata": {
    "tags": []
   },
   "outputs": [],
   "source": [
    "for key in X_all:\n",
    "    data = X_all[key]\n",
    "    expected = y_all[key]\n",
    "    predictions = general_model.predict(data)\n",
    "    local_rmse = np.sqrt(mean_squared_error(expected, predictions))\n",
    "    local_r2 = r2_score(expected, predictions)\n",
    "\n",
    "    print(f'Experiment: {key}')\n",
    "    print(f\"\\tRMSE: {local_rmse:.4f}\")\n",
    "    print(f\"\\tr^2: {local_r2:.4f}\")\n",
    "\n",
    "    plt.figure(figsize=(20, 8))\n",
    "    plt.plot(expected, color=\"black\", label=\"real\")\n",
    "    plt.plot(predictions, color=\"red\", label=\"predicted\")\n",
    "    plt.xlabel('Epoch')\n",
    "    plt.ylabel('% PERCLOS')\n",
    "    plt.legend(loc='best')\n",
    "    plt.ylim(0, 1.1)\n",
    "    plt.show()"
   ]
  },
  {
   "cell_type": "markdown",
   "id": "7eb6ddaa-18b7-4f0d-a5f2-f41a57ef3907",
   "metadata": {},
   "source": [
    "### KNN PSD + EOG"
   ]
  },
  {
   "cell_type": "code",
   "execution_count": null,
   "id": "22d27e69-7f5c-4ef6-9340-967578de121c",
   "metadata": {},
   "outputs": [],
   "source": [
    "print(f\"Experiment: Modelo General KNN PSD + EOG\")\n",
    "model = KNeighborsRegressor(n_jobs=-1)\n",
    "\n",
    "space = dict()\n",
    "space['n_neighbors'] = randint(3, 25)\n",
    "space['weights'] = ['uniform', 'distance']\n",
    "space['algorithm'] = ['auto', 'ball_tree', 'kd_tree', 'brute']\n",
    "space['leaf_size'] = randint(15, 45)\n",
    "space['p'] = [1, 2]\n",
    "\n",
    "general_model, rmse, r2 = find_and_test_best_model_reg(X_eog, y, model, space, cv=10,  n_iter=25)"
   ]
  },
  {
   "cell_type": "code",
   "execution_count": null,
   "id": "6fb1289f-4f03-4cde-b8b5-7d7fb84dd98d",
   "metadata": {
    "tags": []
   },
   "outputs": [],
   "source": [
    "for key in X_all:\n",
    "    data = X_all_eog[key]\n",
    "    expected = y_all[key]\n",
    "    predictions = general_model.predict(data)\n",
    "    local_rmse = np.sqrt(mean_squared_error(expected, predictions))\n",
    "    local_r2 = r2_score(expected, predictions)\n",
    "\n",
    "    print(f'Experiment: {key}')\n",
    "    print(f\"\\tRMSE: {local_rmse:.4f}\")\n",
    "    print(f\"\\tr^2: {local_r2:.4f}\")\n",
    "\n",
    "    plt.figure(figsize=(20, 8))\n",
    "    plt.plot(expected, color=\"black\", label=\"real\")\n",
    "    plt.plot(predictions, color=\"red\", label=\"predicted\")\n",
    "    plt.xlabel('Epoch')\n",
    "    plt.ylabel('% PERCLOS')\n",
    "    plt.legend(loc='best')\n",
    "    plt.ylim(0, 1.1)\n",
    "    plt.show()"
   ]
  },
  {
   "cell_type": "markdown",
   "id": "6391bc56-d2f4-4313-b211-277a3c9334ae",
   "metadata": {},
   "source": [
    "## Decision Tree"
   ]
  },
  {
   "cell_type": "code",
   "execution_count": null,
   "id": "3366c9d6-792f-47dd-a660-a87bb8b26234",
   "metadata": {},
   "outputs": [],
   "source": [
    "from sklearn.tree import DecisionTreeRegressor"
   ]
  },
  {
   "cell_type": "markdown",
   "id": "ba7ea86b-fc29-4c4a-b8a9-cdb1f2e9cc1b",
   "metadata": {},
   "source": [
    "### Decision tree EEG"
   ]
  },
  {
   "cell_type": "code",
   "execution_count": null,
   "id": "8f35fb68-867b-4b0f-93d8-ffaa7513fd1c",
   "metadata": {},
   "outputs": [],
   "source": [
    "print(f\"Experiment: Modelo General Decision Tree EEG\")\n",
    "model = DecisionTreeRegressor(random_state=42)\n",
    "\n",
    "space = dict()\n",
    "space['criterion'] = ['mse', 'friedman_mse']\n",
    "space['splitter'] = [\"best\", \"random\"]\n",
    "space['max_depth'] = [None]\n",
    "space['min_samples_split'] = [2]\n",
    "space['min_samples_leaf'] = [1]\n",
    "space['max_features'] = [\"auto\", \"sqrt\", \"log2\"]\n",
    "\n",
    "general_model, rmse, r2 = find_and_test_best_model_reg(X, y, model, space, cv=10,  n_iter=100)\n",
    "\n",
    "attribs = ['psd_delta', 'psd_theta', 'psd_alpha', 'psd_betha', 'psd_gamma', 'n_parpadeos']\n",
    "importances = general_model.feature_importances_\n",
    "importance_features = sorted(zip(importances, attribs), reverse=True)\n",
    "for imp, attr in importance_features:\n",
    "    print(f'{attr}: {imp:.4f}')\n",
    "\n",
    "for key in X_all:   \n",
    "    data, aux2 = read_features(f'./features/{key}.csv')\n",
    "    scaler = MinMaxScaler(feature_range=(0, 1))\n",
    "    data_minmax = scaler.fit_transform(data_minmax)\n",
    "    expected = y_all[key]\n",
    "    predictions = general_model.predict(data)\n",
    "    local_rmse = np.sqrt(mean_squared_error(expected, predictions))\n",
    "    local_r2 = r2_score(expected, predictions)\n",
    "\n",
    "    print(f'Experiment: {key}')\n",
    "    print(f\"\\tRMSE: {local_rmse:.4f}\")\n",
    "    print(f\"\\tr^2: {local_r2:.4f}\")\n",
    "\n",
    "    plt.figure(figsize=(20, 8))\n",
    "    plt.plot(expected, color=\"black\", label=\"real\")\n",
    "    plt.plot(predictions, color=\"red\", label=\"predicted\")\n",
    "    plt.xlabel('Epoch')\n",
    "    plt.ylabel('% PERCLOS')\n",
    "    plt.legend(loc='best')\n",
    "    plt.ylim(0, 1.1)\n",
    "    plt.show()"
   ]
  },
  {
   "cell_type": "markdown",
   "id": "641092c6-ae65-41df-90e5-cb1755f7b7cd",
   "metadata": {},
   "source": [
    "### Decision tree PSD"
   ]
  },
  {
   "cell_type": "code",
   "execution_count": null,
   "id": "a39c53f8-aeae-47f1-b58c-d1f63ceb92b1",
   "metadata": {
    "tags": []
   },
   "outputs": [],
   "source": [
    "print(f\"Experiment: Modelo General Decision Tree PSD\")\n",
    "model = DecisionTreeRegressor(random_state=42)\n",
    "\n",
    "space = dict()\n",
    "space['criterion'] = ['mse', 'friedman_mse']\n",
    "space['splitter'] = [\"best\", \"random\"]\n",
    "space['max_depth'] = [None]\n",
    "space['min_samples_split'] = [2]\n",
    "space['min_samples_leaf'] = [1]\n",
    "space['max_features'] = [\"auto\", \"sqrt\", \"log2\"]\n",
    "\n",
    "general_model, rmse, r2 = find_and_test_best_model_reg(X, y, model, space, cv=10,  n_iter=100)"
   ]
  },
  {
   "cell_type": "code",
   "execution_count": null,
   "id": "b5e60730-826e-4365-8e71-2f7127da7f06",
   "metadata": {},
   "outputs": [],
   "source": [
    "attribs = ['psd_delta', 'psd_theta', 'psd_alpha', 'psd_betha', 'psd_gamma', 'n_parpadeos']\n",
    "importances = general_model.feature_importances_\n",
    "importance_features = sorted(zip(importances, attribs), reverse=True)\n",
    "for imp, attr in importance_features:\n",
    "    print(f'{attr}: {imp:.4f}')"
   ]
  },
  {
   "cell_type": "code",
   "execution_count": null,
   "id": "c1a3a628-aab0-4d96-84dd-9d8d51b56b23",
   "metadata": {
    "tags": []
   },
   "outputs": [],
   "source": [
    "for key in X_all:\n",
    "    data = X_all[key]\n",
    "    expected = y_all[key]\n",
    "    predictions = general_model.predict(data)\n",
    "    local_rmse = np.sqrt(mean_squared_error(expected, predictions))\n",
    "    local_r2 = r2_score(expected, predictions)\n",
    "\n",
    "    print(f'Experiment: {key}')\n",
    "    print(f\"\\tRMSE: {local_rmse:.4f}\")\n",
    "    print(f\"\\tr^2: {local_r2:.4f}\")\n",
    "\n",
    "    plt.figure(figsize=(20, 8))\n",
    "    plt.plot(expected, color=\"black\", label=\"real\")\n",
    "    plt.plot(predictions, color=\"red\", label=\"predicted\")\n",
    "    plt.xlabel('Epoch')\n",
    "    plt.ylabel('% PERCLOS')\n",
    "    plt.legend(loc='best')\n",
    "    plt.ylim(0, 1.1)\n",
    "    plt.show()"
   ]
  },
  {
   "cell_type": "markdown",
   "id": "c1cb2770-b9e6-4326-a6a2-071aa2180bfe",
   "metadata": {},
   "source": [
    "### Decision Tree PSD + EOG"
   ]
  },
  {
   "cell_type": "code",
   "execution_count": null,
   "id": "ad37485e-27f9-4346-a92d-a3876a5a2b04",
   "metadata": {},
   "outputs": [],
   "source": [
    "print(f\"Experiment: Modelo General Decision Tree PSD\")\n",
    "model = DecisionTreeRegressor(random_state=42)\n",
    "\n",
    "space = dict()\n",
    "space['criterion'] = ['mse', 'friedman_mse']\n",
    "space['splitter'] = [\"best\", \"random\"]\n",
    "space['max_depth'] = [None]\n",
    "space['min_samples_split'] = [2]\n",
    "space['min_samples_leaf'] = [1]\n",
    "space['max_features'] = [\"auto\", \"sqrt\", \"log2\"]\n",
    "\n",
    "general_model, rmse, r2 = find_and_test_best_model_reg(X_eog, y, model, space, cv=10,  n_iter=100)"
   ]
  },
  {
   "cell_type": "code",
   "execution_count": null,
   "id": "245daa57-4e47-4b56-b2c5-c84bfd5c85bb",
   "metadata": {},
   "outputs": [],
   "source": [
    "attribs = ['psd_delta', 'psd_theta', 'psd_alpha', 'psd_betha', 'psd_gamma', 'n_parpadeos']\n",
    "importances = general_model.feature_importances_\n",
    "importance_features = sorted(zip(importances, attribs), reverse=True)\n",
    "for imp, attr in importance_features:\n",
    "    print(f'{attr}: {imp:.4f}')"
   ]
  },
  {
   "cell_type": "code",
   "execution_count": null,
   "id": "4074a785-6658-49ec-bead-839c73ee5555",
   "metadata": {
    "tags": []
   },
   "outputs": [],
   "source": [
    "for key in X_all:\n",
    "    data = X_all_eog[key]\n",
    "    expected = y_all[key]\n",
    "    predictions = general_model.predict(data)\n",
    "    local_rmse = np.sqrt(mean_squared_error(expected, predictions))\n",
    "    local_r2 = r2_score(expected, predictions)\n",
    "\n",
    "    print(f'Experiment: {key}')\n",
    "    print(f\"\\tRMSE: {local_rmse:.4f}\")\n",
    "    print(f\"\\tr^2: {local_r2:.4f}\")\n",
    "\n",
    "    plt.figure(figsize=(20, 8))\n",
    "    plt.plot(expected, color=\"black\", label=\"real\")\n",
    "    plt.plot(predictions, color=\"red\", label=\"predicted\")\n",
    "    plt.xlabel('Epoch')\n",
    "    plt.ylabel('% PERCLOS')\n",
    "    plt.legend(loc='best')\n",
    "    plt.ylim(0, 1.1)\n",
    "    plt.show()"
   ]
  },
  {
   "cell_type": "markdown",
   "id": "a21621c2-ce0a-4666-ac0b-b055b9ae1496",
   "metadata": {},
   "source": [
    "## Random Forest"
   ]
  },
  {
   "cell_type": "code",
   "execution_count": null,
   "id": "2b87a500-504d-4e6f-af8f-d159cb4765e0",
   "metadata": {},
   "outputs": [],
   "source": [
    "from sklearn.ensemble import RandomForestRegressor"
   ]
  },
  {
   "cell_type": "markdown",
   "id": "2fd7ff37-850d-4650-98cd-b8590deb8f17",
   "metadata": {},
   "source": [
    "### Random Forest EEG"
   ]
  },
  {
   "cell_type": "code",
   "execution_count": null,
   "id": "b4628cc8-61e1-49ca-938a-70034b392a93",
   "metadata": {},
   "outputs": [],
   "source": [
    "print(f\"Experiment: Modelo General Random Forest EEG\")\n",
    "model = RandomForestRegressor(random_state=42)\n",
    "\n",
    "space = dict()\n",
    "space['n_estimators'] = randint(75, 200)\n",
    "space['criterion'] = ['mse']\n",
    "space['max_depth'] = randint(75, 150)\n",
    "space['min_samples_split'] = randint(2, 10)\n",
    "space['min_samples_leaf'] = randint(1, 10)\n",
    "# space['min_weight_fraction_leaf'X_all_eogform(0, 0.5)\n",
    "space['max_features'] = [\"auto\", \"sqrt\", \"log2\"]\n",
    "#space['max_leaf_nodes'] = randint(1, 300)\n",
    "# space['min_impurity_decrease'] = uniform(0, 5)\n",
    "#space['bootstrap'] = [True, False]\n",
    "# space['oob_score'] = [True, False]\n",
    "space['warm_start'] = [True, False]\n",
    "# space['class_weight'] = ['balanced', 'balanced_subsample']\n",
    "#space['ccp_alpha'] = uniform(0, 5)\n",
    "#space['max_samples'] = uniform(0, 1)\n",
    "\n",
    "general_model, rmse, r2 = find_and_test_best_model_reg(X, y, model, space, cv=10,  n_iter=25)\n",
    "\n",
    "attribs = ['psd_delta', 'psd_theta', 'psd_alpha', 'psd_betha', 'psd_gamma', 'n_parpadeos']\n",
    "importances = general_model.feature_importances_\n",
    "importance_features = sorted(zip(importances, attribs), reverse=True)\n",
    "for imp, attr in importance_features:\n",
    "    print(f'{attr}: {imp:.4f}')\n",
    "\n",
    "for key in X_all:   \n",
    "    data, aux2 = read_features(f'./features/{key}.csv')\n",
    "    scaler = MinMaxScaler(feature_range=(0, 1))\n",
    "    data_minmax = scaler.fit_transform(data_minmax)\n",
    "    expected = y_all[key]\n",
    "    predictions = general_model.predict(data)\n",
    "    local_rmse = np.sqrt(mean_squared_error(expected, predictions))\n",
    "    local_r2 = r2_score(expected, predictions)\n",
    "\n",
    "    print(f'Experiment: {key}')\n",
    "    print(f\"\\tRMSE: {local_rmse:.4f}\")\n",
    "    print(f\"\\tr^2: {local_r2:.4f}\")\n",
    "\n",
    "    plt.figure(figsize=(20, 8))\n",
    "    plt.plot(expected, color=\"black\", label=\"real\")\n",
    "    plt.plot(predictions, color=\"red\", label=\"predicted\")\n",
    "    plt.xlabel('Epoch')\n",
    "    plt.ylabel('% PERCLOS')\n",
    "    plt.legend(loc='best')\n",
    "    plt.ylim(0, 1.1)\n",
    "    plt.show()"
   ]
  },
  {
   "cell_type": "markdown",
   "id": "a6785d23-0efb-4312-b755-ccc7fc02d5dd",
   "metadata": {},
   "source": [
    "### Random Forest PSD"
   ]
  },
  {
   "cell_type": "code",
   "execution_count": null,
   "id": "c11d9e15-3ad4-44c2-8466-1ee5b4ba7ed3",
   "metadata": {
    "tags": []
   },
   "outputs": [],
   "source": [
    "print(f\"Experiment: Modelo General Random Forest PSD\")\n",
    "model = RandomForestRegressor(random_state=42)\n",
    "\n",
    "space = dict()\n",
    "space['n_estimators'] = randint(75, 200)\n",
    "space['criterion'] = ['mse']\n",
    "space['max_depth'] = randint(75, 150)\n",
    "space['min_samples_split'] = randint(2, 10)\n",
    "space['min_samples_leaf'] = randint(1, 10)\n",
    "# space['min_weight_fraction_leaf'X_all_eogform(0, 0.5)\n",
    "space['max_features'] = [\"auto\", \"sqrt\", \"log2\"]\n",
    "#space['max_leaf_nodes'] = randint(1, 300)\n",
    "# space['min_impurity_decrease'] = uniform(0, 5)\n",
    "#space['bootstrap'] = [True, False]\n",
    "# space['oob_score'] = [True, False]\n",
    "space['warm_start'] = [True, False]\n",
    "# space['class_weight'] = ['balanced', 'balanced_subsample']\n",
    "#space['ccp_alpha'] = uniform(0, 5)\n",
    "#space['max_samples'] = uniform(0, 1)\n",
    "\n",
    "general_model, rmse, r2 = find_and_test_best_model_reg(X, y, model, space, cv=10,  n_iter=25)"
   ]
  },
  {
   "cell_type": "code",
   "execution_count": null,
   "id": "87cea3c9-584a-4ea1-b344-65a6ca94d6a5",
   "metadata": {},
   "outputs": [],
   "source": [
    "attribs = ['psd_delta', 'psd_theta', 'psd_alpha', 'psd_betha', 'psd_gamma', 'n_parpadeos']\n",
    "importances = general_model.feature_importances_\n",
    "importance_features = sorted(zip(importances, attribs), reverse=True)\n",
    "for imp, attr in importance_features:\n",
    "    print(f'{attr}: {imp:.4f}')"
   ]
  },
  {
   "cell_type": "code",
   "execution_count": null,
   "id": "0b499979-817e-4b79-be14-66e3b266ca3e",
   "metadata": {},
   "outputs": [],
   "source": [
    "for key in X_all:\n",
    "    data = X_all[key]\n",
    "    expected = y_all[key]\n",
    "    predictions = general_model.predict(data)\n",
    "    local_rmse = np.sqrt(mean_squared_error(expected, predictions))\n",
    "    local_r2 = r2_score(expected, predictions)\n",
    "\n",
    "    print(f'Experiment: {key}')\n",
    "    print(f\"\\tRMSE: {local_rmse:.4f}\")\n",
    "    print(f\"\\tr^2: {local_r2:.4f}\")\n",
    "\n",
    "    plt.figure(figsize=(20, 8))\n",
    "    plt.plot(expected, color=\"black\", label=\"real\")\n",
    "    plt.plot(predictions, color=\"red\", label=\"predicted\")\n",
    "    plt.xlabel('Epoch')\n",
    "    plt.ylabel('% PERCLOS')\n",
    "    plt.legend(loc='best')\n",
    "    plt.ylim(0, 1.1)\n",
    "    plt.show()"
   ]
  },
  {
   "cell_type": "markdown",
   "id": "f1994ab2-ba43-4c21-b98d-e48d33deccda",
   "metadata": {},
   "source": [
    "### Random Forest PSD + EOG"
   ]
  },
  {
   "cell_type": "code",
   "execution_count": null,
   "id": "475d40a4-b890-4d3c-9b08-31cbdd72ad95",
   "metadata": {},
   "outputs": [],
   "source": [
    "print(f\"Experiment: Modelo General Random Forest PSD\")\n",
    "model = RandomForestRegressor(random_state=42)\n",
    "\n",
    "space = dict()\n",
    "space['n_estimators'] = randint(75, 200)\n",
    "space['criterion'] = ['mse']\n",
    "space['max_depth'] = randint(75, 150)\n",
    "space['min_samples_split'] = randint(2, 10)\n",
    "space['min_samples_leaf'] = randint(1, 10)\n",
    "# space['min_weight_fraction_leaf'X_all_eogform(0, 0.5)\n",
    "space['max_features'] = [\"auto\", \"sqrt\", \"log2\"]\n",
    "#space['max_leaf_nodes'] = randint(1, 300)\n",
    "# space['min_impurity_decrease'] = uniform(0, 5)\n",
    "#space['bootstrap'] = [True, False]\n",
    "# space['oob_score'] = [True, False]\n",
    "space['warm_start'] = [True, False]\n",
    "# space['class_weight'] = ['balanced', 'balanced_subsample']\n",
    "#space['ccp_alpha'] = uniform(0, 5)\n",
    "#space['max_samples'] = uniform(0, 1)\n",
    "\n",
    "general_model, rmse, r2 = find_and_test_best_model_reg(X_eog, y, model, space, cv=10,  n_iter=25)"
   ]
  },
  {
   "cell_type": "code",
   "execution_count": null,
   "id": "e9b5dadf-3028-468c-9ec5-13ab71351bb9",
   "metadata": {},
   "outputs": [],
   "source": [
    "attribs = ['psd_delta', 'psd_theta', 'psd_alpha', 'psd_betha', 'psd_gamma', 'n_parpadeos']\n",
    "importances = general_model.feature_importances_\n",
    "importance_features = sorted(zip(importances, attribs), reverse=True)\n",
    "for imp, attr in importance_features:\n",
    "    print(f'{attr}: {imp:.4f}')"
   ]
  },
  {
   "cell_type": "code",
   "execution_count": null,
   "id": "ec20103f-3a55-4d18-9b61-ba62df258626",
   "metadata": {},
   "outputs": [],
   "source": [
    "for key in X_all:\n",
    "    data = X_all_eog[key]\n",
    "    expected = y_all[key]\n",
    "    predictions = general_model.predict(data)\n",
    "    local_rmse = np.sqrt(mean_squared_error(expected, predictions))\n",
    "    local_r2 = r2_score(expected, predictions)\n",
    "\n",
    "    print(f'Experiment: {key}')\n",
    "    print(f\"\\tRMSE: {local_rmse:.4f}\")\n",
    "    print(f\"\\tr^2: {local_r2:.4f}\")\n",
    "\n",
    "    plt.figure(figsize=(20, 8))\n",
    "    plt.plot(expected, color=\"black\", label=\"real\")\n",
    "    plt.plot(predictions, color=\"red\", label=\"predicted\")\n",
    "    plt.xlabel('Epoch')\n",
    "    plt.ylabel('% PERCLOS')\n",
    "    plt.legend(loc='best')\n",
    "    plt.ylim(0, 1.1)\n",
    "    plt.show()"
   ]
  },
  {
   "cell_type": "markdown",
   "id": "939dc10c-1a8c-46de-9dd8-200139501e9f",
   "metadata": {
    "tags": []
   },
   "source": [
    "# Modelo 90-10\n",
    "- 21/23 = ~9%\n",
    "- 2/23 = ~10%X_eog"
   ]
  },
  {
   "cell_type": "code",
   "execution_count": null,
   "id": "45040905-a62c-44d6-99c9-9a5f883f5640",
   "metadata": {},
   "outputs": [],
   "source": [
    "# Separamos 2 experimentos para hacer las pruebas\n",
    "subset_train, subset_test = train_test_split(features_files, test_size=2, random_state=77)\n",
    "\n",
    "X_sub = []\n",
    "X_sub_eog = []\n",
    "y_sub = []\n",
    "\n",
    "for key in subset_train:\n",
    "    X_sub.append(X_all[key[:-4]])\n",
    "    X_sub_eog.append(X_all_eog[key[:-4]])\n",
    "    y_sub.append(y_all[key[:-4]])\n",
    "\n",
    "X_sub = np.array(X_sub)\n",
    "X_sub = X_sub.reshape((X_sub.shape[0]*X_sub.shape[1], X_sub.shape[2]))\n",
    "X_sub_eog = np.array(X_sub_eog)\n",
    "X_sub_eog = X_sub_eog.reshape((X_sub_eog.shape[0]*X_sub_eog.shape[1], X_sub_eog.shape[2]))\n",
    "y_sub = np.array(y_sub)\n",
    "y_sub = y_sub.reshape((y_sub.shape[0]*y_sub.shape[1]))"
   ]
  },
  {
   "cell_type": "code",
   "execution_count": null,
   "id": "f19cdb2a-5aff-4a0a-bd6f-0c5b8a4930ea",
   "metadata": {},
   "outputs": [],
   "source": [
    "print(f'{X_sub.shape}, {X_sub_eog.shape}')"
   ]
  },
  {
   "cell_type": "markdown",
   "id": "c61cd295-4a1a-4e65-9755-9fa0f190ffa8",
   "metadata": {},
   "source": [
    "## SMV-r"
   ]
  },
  {
   "cell_type": "code",
   "execution_count": null,
   "id": "1b2b50e5-bac6-4b2f-b4b8-42c7a56e6ca8",
   "metadata": {},
   "outputs": [],
   "source": [
    "from sklearn.svm import SVR"
   ]
  },
  {
   "cell_type": "markdown",
   "id": "e8fb52ee-0b9d-4a54-aff6-35043d2dda65",
   "metadata": {},
   "source": [
    "### SMV-r PSD"
   ]
  },
  {
   "cell_type": "code",
   "execution_count": null,
   "id": "d9c95f11-50c8-46ef-869f-d558a5bf8b58",
   "metadata": {
    "tags": []
   },
   "outputs": [],
   "source": [
    "print(f\"Experiment: Modelo 90-10 SVM-r PSD\")\n",
    "model = SVR()\n",
    "\n",
    "space = dict()\n",
    "\n",
    "space['kernel'] = ['linear', 'rbf']\n",
    "space['gamma'] = ['scale', 'auto']\n",
    "space['tol'] = uniform(1e-5, 1e-1)\n",
    "space['C'] = randint(1, 500)\n",
    "space['epsilon'] = uniform(0.01, 0.5)\n",
    "space['shrinking'] = [True, False]\n",
    "\n",
    "partial_model, rmse, r2 = find_and_test_best_model_reg(X_sub, y_sub, model, space, cv=10,  n_iter=10)"
   ]
  },
  {
   "cell_type": "code",
   "execution_count": null,
   "id": "1377ba4f-8a25-4dc4-91d1-49138e96768d",
   "metadata": {
    "tags": []
   },
   "outputs": [],
   "source": [
    "for experiment in subset_test:\n",
    "    key = f'{experiment[:-4]}'\n",
    "    data = X_all[key]\n",
    "    expected = y_all[key]\n",
    "    predictions = partial_model.predict(data)\n",
    "    local_rmse = np.sqrt(mean_squared_error(expected, predictions))\n",
    "    local_r2 = r2_score(expected, predictions)\n",
    "\n",
    "    print(f'Experiment: {key}')\n",
    "    print(f\"\\tRMSE: {local_rmse:.4f}\")\n",
    "    print(f\"\\tr^2: {local_r2:.4f}\")\n",
    "\n",
    "    plt.figure(figsize=(20, 8))\n",
    "    plt.plot(expected, color=\"black\", label=\"real\")\n",
    "    plt.plot(predictions, color=\"red\", label=\"predicted\")\n",
    "    plt.xlabel('Epoch')\n",
    "    plt.ylabel('% PERCLOS')\n",
    "    plt.legend(loc='best')\n",
    "    plt.ylim(0, 1.1)\n",
    "    plt.show()"
   ]
  },
  {
   "cell_type": "markdown",
   "id": "acc86b7f-801b-426e-bdd2-8a1806e50379",
   "metadata": {},
   "source": [
    "### SMV-r PSD + EOG"
   ]
  },
  {
   "cell_type": "code",
   "execution_count": null,
   "id": "8dec9ec9-0547-429a-9d00-f360902e0c9d",
   "metadata": {},
   "outputs": [],
   "source": [
    "print(f\"Experiment: Modelo 90-10 SVM-r PSD + EOG\")\n",
    "model = SVR()\n",
    "\n",
    "space = dict()\n",
    "\n",
    "space['kernel'] = ['linear', 'rbf']\n",
    "space['gamma'] = ['scale', 'auto']\n",
    "space['tol'] = uniform(1e-5, 1e-1)\n",
    "space['C'] = randint(1, 500)\n",
    "space['epsilon'] = uniform(0.01, 0.5)\n",
    "space['shrinking'] = [True, False]\n",
    "\n",
    "partial_model, rmse, r2 = find_and_test_best_model_reg(X_sub_eog, y_sub, model, space, cv=10,  n_iter=10)"
   ]
  },
  {
   "cell_type": "code",
   "execution_count": null,
   "id": "2d892784-795d-4642-b2e7-8dcd980a71e5",
   "metadata": {},
   "outputs": [],
   "source": [
    "for experiment in subset_test:\n",
    "    key = f'{experiment[:-4]}'\n",
    "    data = X_all_eog[key]\n",
    "    expected = y_all[key]\n",
    "    predictions = partial_model.predict(data)\n",
    "    local_rmse = np.sqrt(mean_squared_error(expected, predictions))\n",
    "    local_r2 = r2_score(expected, predictions)\n",
    "\n",
    "    print(f'Experiment: {key}')\n",
    "    print(f\"\\tRMSE: {local_rmse:.4f}\")\n",
    "    print(f\"\\tr^2: {local_r2:.4f}\")\n",
    "    \n",
    "    plt.figure(figsize=(20, 8))\n",
    "    plt.plot(expected, color=\"black\", label=\"real\")\n",
    "    plt.plot(predictions, color=\"red\", label=\"predicted\")\n",
    "    plt.xlabel('Epoch')\n",
    "    plt.ylabel('% PERCLOS')\n",
    "    plt.legend(loc='best')\n",
    "    plt.ylim(0, 1.1)\n",
    "    plt.show()"
   ]
  },
  {
   "cell_type": "markdown",
   "id": "35d5554a-a659-4548-810e-40ce731b8010",
   "metadata": {},
   "source": [
    "## KNN"
   ]
  },
  {
   "cell_type": "code",
   "execution_count": null,
   "id": "b9c7ecd3-addc-4d4d-b7bc-a7a3ab92f6ae",
   "metadata": {},
   "outputs": [],
   "source": [
    "from sklearn.neighbors import KNeighborsRegressor"
   ]
  },
  {
   "cell_type": "markdown",
   "id": "7cb7d798-f78a-4863-b384-801a6b86b52d",
   "metadata": {},
   "source": [
    "### KNN PSD"
   ]
  },
  {
   "cell_type": "code",
   "execution_count": null,
   "id": "f306b071-707c-4027-b106-06e7459819fb",
   "metadata": {},
   "outputs": [],
   "source": [
    "print(f\"Experiment: Modelo 90-10 KNN PSD\")\n",
    "model = KNeighborsRegressor(n_jobs=-1)\n",
    "\n",
    "space = dict()\n",
    "space['n_neighbors'] = randint(3, 25)\n",
    "space['weights'] = ['uniform', 'distance']\n",
    "space['algorithm'] = ['auto', 'ball_tree', 'kd_tree', 'brute']\n",
    "space['leaf_size'] = randint(15, 45)\n",
    "space['p'] = [1, 2]\n",
    "\n",
    "partial_model, rmse, r2 = find_and_test_best_model_reg(X_sub, y_sub, model, space, cv=10,  n_iter=20)"
   ]
  },
  {
   "cell_type": "code",
   "execution_count": null,
   "id": "ed4a5f46-d859-40dc-8fc3-f952e0ab0054",
   "metadata": {
    "tags": []
   },
   "outputs": [],
   "source": [
    "for experiment in subset_test:\n",
    "    key = f'{experiment[:-4]}'\n",
    "    data = X_all[key]\n",
    "    expected = y_all[key]\n",
    "    predictions = partial_model.predict(data)\n",
    "    local_rmse = np.sqrt(mean_squared_error(expected, predictions))\n",
    "    local_r2 = r2_score(expected, predictions)\n",
    "\n",
    "    print(f'Experiment: {key}')\n",
    "    print(f\"\\tRMSE: {local_rmse:.4f}\")\n",
    "    print(f\"\\tr^2: {local_r2:.4f}\")\n",
    "\n",
    "    plt.figure(figsize=(20, 8))\n",
    "    plt.plot(expected, color=\"black\", label=\"real\")\n",
    "    plt.plot(predictions, color=\"red\", label=\"predicted\")\n",
    "    plt.xlabel('Epoch')\n",
    "    plt.ylabel('% PERCLOS')\n",
    "    plt.legend(loc='best')\n",
    "    plt.ylim(0, 1.1)\n",
    "    plt.show()"
   ]
  },
  {
   "cell_type": "markdown",
   "id": "a4367031-e9b9-4206-ab50-069b1a53a983",
   "metadata": {},
   "source": [
    "### KNN PSD + EOG"
   ]
  },
  {
   "cell_type": "code",
   "execution_count": null,
   "id": "c8b429cb-82bd-42e8-a8c6-9d0384917d4b",
   "metadata": {},
   "outputs": [],
   "source": [
    "print(f\"Experiment: Modelo 90-10 KNN PSD+EOG\")\n",
    "model = KNeighborsRegressor(n_jobs=-1)\n",
    "\n",
    "space = dict()\n",
    "space['n_neighbors'] = randint(3, 25)\n",
    "space['weights'] = ['uniform', 'distance']\n",
    "space['algorithm'] = ['auto', 'ball_tree', 'kd_tree', 'brute']\n",
    "space['leaf_size'] = randint(15, 45)\n",
    "space['p'] = [1, 2]\n",
    "\n",
    "partial_model, rmse, r2 = find_and_test_best_model_reg(X_sub_eog, y_sub, model, space, cv=10,  n_iter=20)"
   ]
  },
  {
   "cell_type": "code",
   "execution_count": null,
   "id": "f9eb6552-9b8a-4728-82cc-b9208dfd455a",
   "metadata": {
    "tags": []
   },
   "outputs": [],
   "source": [
    "for experiment in subset_test:\n",
    "    key = f'{experiment[:-4]}'\n",
    "    data = X_all_eog[key]\n",
    "    expected = y_all[key]\n",
    "    predictions = partial_model.predict(data)\n",
    "    local_rmse = np.sqrt(mean_squared_error(expected, predictions))\n",
    "    local_r2 = r2_score(expected, predictions)\n",
    "\n",
    "    print(f'Experiment: {key}')\n",
    "    print(f\"\\tRMSE: {local_rmse:.4f}\")\n",
    "    print(f\"\\tr^2: {local_r2:.4f}\")\n",
    "    \n",
    "    plt.figure(figsize=(20, 8))\n",
    "    plt.plot(expected, color=\"black\", label=\"real\")\n",
    "    plt.plot(predictions, color=\"red\", label=\"predicted\")\n",
    "    plt.xlabel('Epoch')\n",
    "    plt.ylabel('% PERCLOS')\n",
    "    plt.legend(loc='best')\n",
    "    plt.ylim(0, 1.1)\n",
    "    plt.show()"
   ]
  },
  {
   "cell_type": "markdown",
   "id": "fb35d657-2eb0-4a67-9cac-7eafd7eca48a",
   "metadata": {},
   "source": [
    "## Decision Tree"
   ]
  },
  {
   "cell_type": "code",
   "execution_count": null,
   "id": "65e247e9-2eba-4ff0-83ef-50110cff3930",
   "metadata": {},
   "outputs": [],
   "source": [
    "from sklearn.tree import DecisionTreeRegressor"
   ]
  },
  {
   "cell_type": "markdown",
   "id": "9ef8e07e-6188-4492-a4c6-8a3f95cbf53e",
   "metadata": {},
   "source": [
    "### Decision Tree PSD"
   ]
  },
  {
   "cell_type": "code",
   "execution_count": null,
   "id": "5180ed60-2a08-4c3c-a682-569b4240c868",
   "metadata": {},
   "outputs": [],
   "source": [
    "print(f\"Experiment: Modelo 90-10 Decision Tree PSD\")\n",
    "model = DecisionTreeRegressor(random_state=42)\n",
    "\n",
    "space = dict()\n",
    "space['criterion'] = ['mse', 'friedman_mse']\n",
    "space['splitter'] = [\"best\", \"random\"]\n",
    "space['max_depth'] = [None]\n",
    "space['min_samples_split'] = [2]\n",
    "space['min_samples_leaf'] = [1]\n",
    "space['max_features'] = [\"auto\", \"sqrt\", \"log2\"]\n",
    "\n",
    "partial_model, rmse, r2 = find_and_test_best_model_reg(X_sub, y_sub, model, space, cv=10,  n_iter=100)"
   ]
  },
  {
   "cell_type": "code",
   "execution_count": null,
   "id": "e5c95c0e-5c31-4e3c-bb70-58b04f7e65b6",
   "metadata": {},
   "outputs": [],
   "source": [
    "attribs = ['psd_delta', 'psd_theta', 'psd_alpha', 'psd_betha', 'psd_gamma', 'n_parpadeos']\n",
    "importances = partial_model.feature_importances_\n",
    "importance_features = sorted(zip(importances, attribs), reverse=True)\n",
    "for imp, attr in importance_features:\n",
    "    print(f'{attr}: {imp:.4f}')"
   ]
  },
  {
   "cell_type": "code",
   "execution_count": null,
   "id": "f681d4bc-608f-43d0-8fee-08b8c934a8a9",
   "metadata": {
    "tags": []
   },
   "outputs": [],
   "source": [
    "for experiment in subset_test:\n",
    "    key = f'{experiment[:-4]}'\n",
    "    data = X_all[key]\n",
    "    expected = y_all[key]\n",
    "    predictions = partial_model.predict(data)\n",
    "    local_rmse = np.sqrt(mean_squared_error(expected, predictions))\n",
    "    local_r2 = r2_score(expected, predictions)\n",
    "\n",
    "    print(f'Experiment: {key}')\n",
    "    print(f\"\\tRMSE: {local_rmse:.4f}\")\n",
    "    print(f\"\\tr^2: {local_r2:.4f}\")\n",
    "\n",
    "    plt.figure(figsize=(20, 8))\n",
    "    plt.plot(expected, color=\"black\", label=\"real\")\n",
    "    plt.plot(predictions, color=\"red\", label=\"predicted\")\n",
    "    plt.xlabel('Epoch')\n",
    "    plt.ylabel('% PERCLOS')\n",
    "    plt.legend(loc='best')\n",
    "    plt.ylim(0, 1.1)\n",
    "    plt.show()"
   ]
  },
  {
   "cell_type": "markdown",
   "id": "35d377d9-1514-47b4-ab49-578630f68662",
   "metadata": {},
   "source": [
    "### Decision Tree PSD + EOG"
   ]
  },
  {
   "cell_type": "code",
   "execution_count": null,
   "id": "aabd671a-b997-41b4-bd31-c227362ba3eb",
   "metadata": {},
   "outputs": [],
   "source": [
    "print(f\"Experiment: Modelo 90-10 Decision Tree PSD\")\n",
    "model = DecisionTreeRegressor(random_state=42)\n",
    "\n",
    "space = dict()\n",
    "space['criterion'] = ['mse', 'friedman_mse']\n",
    "space['splitter'] = [\"best\", \"random\"]\n",
    "space['max_depth'] = [None]\n",
    "space['min_samples_split'] = [2]\n",
    "space['min_samples_leaf'] = [1]\n",
    "space['max_features'] = [\"auto\", \"sqrt\", \"log2\"]\n",
    "\n",
    "partial_model, rmse, r2 = find_and_test_best_model_reg(X_sub_eog, y_sub, model, space, cv=10,  n_iter=100)"
   ]
  },
  {
   "cell_type": "code",
   "execution_count": null,
   "id": "f95a1337-2d6f-4a02-9ac7-c0b07edbda94",
   "metadata": {},
   "outputs": [],
   "source": [
    "attribs = ['psd_delta', 'psd_theta', 'psd_alpha', 'psd_betha', 'psd_gamma', 'n_parpadeos']\n",
    "importances = partial_model.feature_importances_\n",
    "importance_features = sorted(zip(importances, attribs), reverse=True)\n",
    "for imp, attr in importance_features:\n",
    "    print(f'{attr}: {imp:.4f}')"
   ]
  },
  {
   "cell_type": "code",
   "execution_count": null,
   "id": "905cea92-6626-4c33-a53d-fb7e18f11dcb",
   "metadata": {
    "tags": []
   },
   "outputs": [],
   "source": [
    "for experiment in subset_test:\n",
    "    key = f'{experiment[:-4]}'\n",
    "    data = X_all_eog[key]\n",
    "    expected = y_all[key]\n",
    "    predictions = partial_model.predict(data)\n",
    "    local_rmse = np.sqrt(mean_squared_error(expected, predictions))\n",
    "    local_r2 = r2_score(expected, predictions)\n",
    "\n",
    "    print(f'Experiment: {key}')\n",
    "    print(f\"\\tRMSE: {local_rmse:.4f}\")\n",
    "    print(f\"\\tr^2: {local_r2:.4f}\")\n",
    "    \n",
    "    plt.figure(figsize=(20, 8))\n",
    "    plt.plot(expected, color=\"black\", label=\"real\")\n",
    "    plt.plot(predictions, color=\"red\", label=\"predicted\")\n",
    "    plt.xlabel('Epoch')\n",
    "    plt.ylabel('% PERCLOS')\n",
    "    plt.legend(loc='best')\n",
    "    plt.ylim(0, 1.1)\n",
    "    plt.show()"
   ]
  },
  {
   "cell_type": "markdown",
   "id": "052682e9-30df-4b0a-bfa9-97471a72a5a0",
   "metadata": {},
   "source": [
    "## Random Forest"
   ]
  },
  {
   "cell_type": "code",
   "execution_count": null,
   "id": "1564ce8f-0827-4e67-b355-8d527d0c486b",
   "metadata": {},
   "outputs": [],
   "source": [
    "from sklearn.ensemble import RandomForestRegressor"
   ]
  },
  {
   "cell_type": "markdown",
   "id": "6e48a5a3-c3cc-4a4d-b121-48d24aa24691",
   "metadata": {},
   "source": [
    "### Random Forest PSD"
   ]
  },
  {
   "cell_type": "code",
   "execution_count": null,
   "id": "95489ee5-37d1-4292-bde4-250795904b09",
   "metadata": {},
   "outputs": [],
   "source": [
    "print(f\"Experiment: Modelo 90-10 Random Forest PSD\")\n",
    "model = RandomForestRegressor(random_state=42)\n",
    "\n",
    "space = dict()\n",
    "space['n_estimators'] = randint(75, 200)\n",
    "space['criterion'] = ['mse']\n",
    "space['max_depth'] = randint(75, 150)\n",
    "space['min_samples_split'] = randint(2, 10)\n",
    "space['min_samples_leaf'] = randint(1, 10)\n",
    "# space['min_weight_fraction_leaf'X_all_eogform(0, 0.5)\n",
    "space['max_features'] = [\"auto\", \"sqrt\", \"log2\"]\n",
    "#space['max_leaf_nodes'] = randint(1, 300)\n",
    "# space['min_impurity_decrease'] = uniform(0, 5)\n",
    "#space['bootstrap'] = [True, False]\n",
    "# space['oob_score'] = [True, False]\n",
    "space['warm_start'] = [True, False]\n",
    "# space['class_weight'] = ['balanced', 'balanced_subsample']\n",
    "#space['ccp_alpha'] = uniform(0, 5)\n",
    "#space['max_samples'] = uniform(0, 1)\n",
    "\n",
    "partial_model, rmse, r2 = find_and_test_best_model_reg(X_sub, y_sub, model, space, cv=10,  n_iter=25)"
   ]
  },
  {
   "cell_type": "code",
   "execution_count": null,
   "id": "e6221b8d-5816-4e08-9c6d-d5f456cf6159",
   "metadata": {},
   "outputs": [],
   "source": [
    "attribs = ['psd_delta', 'psd_theta', 'psd_alpha', 'psd_betha', 'psd_gamma', 'n_parpadeos']\n",
    "importances = partial_model.feature_importances_\n",
    "importance_features = sorted(zip(importances, attribs), reverse=True)\n",
    "for imp, attr in importance_features:\n",
    "    print(f'{attr}: {imp:.4f}')"
   ]
  },
  {
   "cell_type": "code",
   "execution_count": null,
   "id": "5d8ca09e-8fda-4f5c-a83b-7d0dd698f93e",
   "metadata": {},
   "outputs": [],
   "source": [
    "for experiment in subset_test:\n",
    "    key = f'{experiment[:-4]}'\n",
    "    data = X_all[key]\n",
    "    expected = y_all[key]\n",
    "    predictions = partial_model.predict(data)\n",
    "    local_rmse = np.sqrt(mean_squared_error(expected, predictions))\n",
    "    local_r2 = r2_score(expected, predictions)\n",
    "\n",
    "    print(f'Experiment: {key}')\n",
    "    print(f\"\\tRMSE: {local_rmse:.4f}\")\n",
    "    print(f\"\\tr^2: {local_r2:.4f}\")\n",
    "\n",
    "    plt.figure(figsize=(20, 8))\n",
    "    plt.plot(expected, color=\"black\", label=\"real\")\n",
    "    plt.plot(predictions, color=\"red\", label=\"predicted\")\n",
    "    plt.xlabel('Epoch')\n",
    "    plt.ylabel('% PERCLOS')\n",
    "    plt.legend(loc='best')\n",
    "    plt.ylim(0, 1.1)\n",
    "    plt.show()"
   ]
  },
  {
   "cell_type": "markdown",
   "id": "08ed3b9f-6e88-4289-8946-60a03527ef46",
   "metadata": {},
   "source": [
    "### Random Forest PSD + EOG"
   ]
  },
  {
   "cell_type": "code",
   "execution_count": null,
   "id": "63cb0ea2-c5d5-49f8-af06-69f0cac8af94",
   "metadata": {},
   "outputs": [],
   "source": [
    "print(f\"Experiment: Modelo 90-10 Random Forest PSD\")\n",
    "model = RandomForestRegressor(random_state=42)\n",
    "\n",
    "space = dict()\n",
    "space['n_estimators'] = randint(75, 200)\n",
    "space['criterion'] = ['mse']\n",
    "space['max_depth'] = randint(75, 150)\n",
    "space['min_samples_split'] = randint(2, 10)\n",
    "space['min_samples_leaf'] = randint(1, 10)\n",
    "# space['min_weight_fraction_leaf'X_all_eogform(0, 0.5)\n",
    "space['max_features'] = [\"auto\", \"sqrt\", \"log2\"]\n",
    "#space['max_leaf_nodes'] = randint(1, 300)\n",
    "# space['min_impurity_decrease'] = uniform(0, 5)\n",
    "#space['bootstrap'] = [True, False]\n",
    "# space['oob_score'] = [True, False]\n",
    "space['warm_start'] = [True, False]\n",
    "# space['class_weight'] = ['balanced', 'balanced_subsample']\n",
    "#space['ccp_alpha'] = uniform(0, 5)\n",
    "#space['max_samples'] = uniform(0, 1)\n",
    "\n",
    "partial_model, rmse, r2 = find_and_test_best_model_reg(X_sub_eog, y_sub, model, space, cv=10,  n_iter=25)"
   ]
  },
  {
   "cell_type": "code",
   "execution_count": null,
   "id": "3cf8c4f3-de7a-4a16-9e52-5afd436eb485",
   "metadata": {},
   "outputs": [],
   "source": [
    "attribs = ['psd_delta', 'psd_theta', 'psd_alpha', 'psd_betha', 'psd_gamma', 'n_parpadeos']\n",
    "importances = partial_model.feature_importances_\n",
    "importance_features = sorted(zip(importances, attribs), reverse=True)\n",
    "for imp, attr in importance_features:\n",
    "    print(f'{attr}: {imp:.4f}')"
   ]
  },
  {
   "cell_type": "code",
   "execution_count": null,
   "id": "eb025c7c-7d5c-44fe-93f7-98d3ce5e115a",
   "metadata": {},
   "outputs": [],
   "source": [
    "for experiment in subset_test:\n",
    "    key = f'{experiment[:-4]}'\n",
    "    data = X_all_eog[key]\n",
    "    expected = y_all[key]\n",
    "    predictions = partial_model.predict(data)\n",
    "    local_rmse = np.sqrt(mean_squared_error(expected, predictions))\n",
    "    local_r2 = r2_score(expected, predictions)\n",
    "\n",
    "    print(f'Experiment: {key}')\n",
    "    print(f\"\\tRMSE: {local_rmse:.4f}\")\n",
    "    print(f\"\\tr^2: {local_r2:.4f}\")\n",
    "\n",
    "    plt.figure(figsize=(20, 8))\n",
    "    plt.plot(expected, color=\"black\", label=\"real\")\n",
    "    plt.plot(predictions, color=\"red\", label=\"predicted\")\n",
    "    plt.xlabel('Epoch')\n",
    "    plt.ylabel('% PERCLOS')\n",
    "    plt.legend(loc='best')\n",
    "    plt.ylim(0, 1.1)\n",
    "    plt.show()"
   ]
  },
  {
   "cell_type": "markdown",
   "id": "1369a134-0b25-42ec-a8db-340e17d2d324",
   "metadata": {},
   "source": [
    "# Modelo 70-30\n",
    "- 16/23 = ~70%\n",
    "- 7/23 = ~30%X_all_eog"
   ]
  },
  {
   "cell_type": "code",
   "execution_count": null,
   "id": "3c33ccd0-de1a-4f86-8896-46d230a1d9ea",
   "metadata": {},
   "outputs": [],
   "source": [
    "# Separamos 2 experimentos para hacer las pruebas\n",
    "subset_train, subset_test = train_test_split(features_files, test_size=7, random_state=77)\n",
    "\n",
    "X_sub = []\n",
    "X_sub_eog = []\n",
    "y_sub = []\n",
    "\n",
    "for key in subset_train:\n",
    "    X_sub.append(X_all[key[:-4]])\n",
    "    X_sub_eog.append(X_all_eog[key[:-4]])\n",
    "    y_sub.append(y_all[key[:-4]])\n",
    "\n",
    "X_sub = np.array(X_sub)\n",
    "X_sub = X_sub.reshape((X_sub.shape[0]*X_sub.shape[1], X_sub.shape[2]))\n",
    "X_sub_eog = np.array(X_sub_eog)\n",
    "X_sub_eog = X_sub_eog.reshape((X_sub_eog.shape[0]*X_sub_eog.shape[1], X_sub_eog.shape[2]))\n",
    "y_sub = np.array(y_sub)\n",
    "y_sub = y_sub.reshape((y_sub.shape[0]*y_sub.shape[1]))"
   ]
  },
  {
   "cell_type": "code",
   "execution_count": null,
   "id": "c5e21ec9-1225-4f85-a052-34edc45703bb",
   "metadata": {},
   "outputs": [],
   "source": [
    "print(f'{X_sub.shape}, {X_sub_eog.shape}')"
   ]
  },
  {
   "cell_type": "markdown",
   "id": "7023765b-8693-45ee-b772-20afbce5bcf1",
   "metadata": {},
   "source": [
    "## SMV-r"
   ]
  },
  {
   "cell_type": "code",
   "execution_count": null,
   "id": "82fc22f4-0e22-45f1-82c9-cc95540e57da",
   "metadata": {},
   "outputs": [],
   "source": [
    "from sklearn.svm import SVR"
   ]
  },
  {
   "cell_type": "markdown",
   "id": "4ec8851a-f800-48c4-b9c1-980dbef67ac8",
   "metadata": {},
   "source": [
    "### SMV-r PSD"
   ]
  },
  {
   "cell_type": "code",
   "execution_count": null,
   "id": "83847bf0-3e34-484f-a700-80ecb1755b14",
   "metadata": {},
   "outputs": [],
   "source": [
    "print(f\"Experiment: Modelo 90-10 SVM-r PSD\")\n",
    "model = SVR()\n",
    "\n",
    "space = dict()\n",
    "\n",
    "space['kernel'] = ['linear', 'rbf']\n",
    "space['gamma'] = ['scale', 'auto']\n",
    "space['tol'] = uniform(1e-5, 1e-1)\n",
    "space['C'] = randint(1, 500)\n",
    "space['epsilon'] = uniform(0.01, 0.5)\n",
    "space['shrinking'] = [True, False]\n",
    "\n",
    "partial_model, rmse, r2 = find_and_test_best_model_reg(X_sub, y_sub, model, space, cv=10,  n_iter=10)"
   ]
  },
  {
   "cell_type": "code",
   "execution_count": null,
   "id": "9d91bdbb-48d4-41c4-b1db-2b60c14c5412",
   "metadata": {
    "tags": []
   },
   "outputs": [],
   "source": [
    "for experiment in subset_test:\n",
    "    key = f'{experiment[:-4]}'\n",
    "    data = X_all[key]\n",
    "    expected = y_all[key]\n",
    "    predictions = partial_model.predict(data)\n",
    "    local_rmse = np.sqrt(mean_squared_error(expected, predictions))\n",
    "    local_r2 = r2_score(expected, predictions)\n",
    "\n",
    "    print(f'Experiment: {key}')\n",
    "    print(f\"\\tRMSE: {local_rmse:.4f}\")\n",
    "    print(f\"\\tr^2: {local_r2:.4f}\")\n",
    "\n",
    "    plt.figure(figsize=(20, 8))\n",
    "    plt.plot(expected, color=\"black\", label=\"real\")\n",
    "    plt.plot(predictions, color=\"red\", label=\"predicted\")\n",
    "    plt.xlabel('Epoch')\n",
    "    plt.ylabel('% PERCLOS')\n",
    "    plt.legend(loc='best')\n",
    "    plt.ylim(0, 1.1)\n",
    "    plt.show()"
   ]
  },
  {
   "cell_type": "markdown",
   "id": "9cdb5125-1682-43d0-98bb-a8c555532cb8",
   "metadata": {},
   "source": [
    "### SMV-r PSD + EOG"
   ]
  },
  {
   "cell_type": "code",
   "execution_count": null,
   "id": "7f145cc5-3144-4860-a1c1-7b25e55e02f9",
   "metadata": {},
   "outputs": [],
   "source": [
    "print(f\"Experiment: Modelo 90-10 SVM-r PSD + EOG\")\n",
    "model = SVR()\n",
    "\n",
    "space = dict()\n",
    "\n",
    "space['kernel'] = ['linear', 'rbf']\n",
    "space['gamma'] = ['scale', 'auto']\n",
    "space['tol'] = uniform(1e-5, 1e-1)\n",
    "space['C'] = randint(1, 500)\n",
    "space['epsilon'] = uniform(0.01, 0.5)\n",
    "space['shrinking'] = [True, False]\n",
    "\n",
    "partial_model, rmse, r2 = find_and_test_best_model_reg(X_sub_eog, y_sub, model, space, cv=10,  n_iter=10)"
   ]
  },
  {
   "cell_type": "code",
   "execution_count": null,
   "id": "b1c5bf0b-9545-4655-aba4-d44d36b0e2a3",
   "metadata": {},
   "outputs": [],
   "source": [
    "for experiment in subset_test:\n",
    "    key = f'{experiment[:-4]}'\n",
    "    data = X_all_eog[key]\n",
    "    expected = y_all[key]\n",
    "    predictions = partial_model.predict(data)\n",
    "    local_rmse = np.sqrt(mean_squared_error(expected, predictions))\n",
    "    local_r2 = r2_score(expected, predictions)\n",
    "\n",
    "    print(f'Experiment: {key}')\n",
    "    print(f\"\\tRMSE: {local_rmse:.4f}\")\n",
    "    print(f\"\\tr^2: {local_r2:.4f}\")\n",
    "\n",
    "    plt.figure(figsize=(20, 8))\n",
    "    plt.plot(expected, color=\"black\", label=\"real\")\n",
    "    plt.plot(predictions, color=\"red\", label=\"predicted\")\n",
    "    plt.xlabel('Epoch')\n",
    "    plt.ylabel('% PERCLOS')\n",
    "    plt.legend(loc='best')\n",
    "    plt.ylim(0, 1.1)\n",
    "    plt.show()"
   ]
  },
  {
   "cell_type": "markdown",
   "id": "a36233d0-7b0b-49aa-832f-8935948fa03b",
   "metadata": {},
   "source": [
    "## KNN"
   ]
  },
  {
   "cell_type": "code",
   "execution_count": null,
   "id": "c1dd321e-aea4-48aa-b418-a0ea3410f75b",
   "metadata": {},
   "outputs": [],
   "source": [
    "from sklearn.neighbors import KNeighborsRegressor"
   ]
  },
  {
   "cell_type": "markdown",
   "id": "fdeacd37-50cc-491c-81a2-bc6836c83e70",
   "metadata": {},
   "source": [
    "### KNN PSD"
   ]
  },
  {
   "cell_type": "code",
   "execution_count": null,
   "id": "4acbeecf-5c69-4675-bba3-1d6ac26b385d",
   "metadata": {},
   "outputs": [],
   "source": [
    "print(f\"Experiment: Modelo 70-30 KNN PSD\")\n",
    "model = KNeighborsRegressor(n_jobs=-1)\n",
    "\n",
    "space = dict()\n",
    "space['n_neighbors'] = randint(3, 25)\n",
    "space['weights'] = ['uniform', 'distance']\n",
    "space['algorithm'] = ['auto', 'ball_tree', 'kd_tree', 'brute']\n",
    "space['leaf_size'] = randint(15, 45)\n",
    "space['p'] = [1, 2]\n",
    "\n",
    "partial_model, rmse, r2 = find_and_test_best_model_reg(X_sub, y_sub, model, space, cv=10,  n_iter=20)"
   ]
  },
  {
   "cell_type": "code",
   "execution_count": null,
   "id": "16265fda-e61c-4ce4-b2fb-32f3a0012814",
   "metadata": {
    "tags": []
   },
   "outputs": [],
   "source": [
    "for experiment in subset_test:\n",
    "    key = f'{experiment[:-4]}'\n",
    "    data = X_all[key]\n",
    "    expected = y_all[key]\n",
    "    predictions = partial_model.predict(data)\n",
    "    local_rmse = np.sqrt(mean_squared_error(expected, predictions))\n",
    "    local_r2 = r2_score(expected, predictions)\n",
    "\n",
    "    print(f'Experiment: {key}')\n",
    "    print(f\"\\tRMSE: {local_rmse:.4f}\")\n",
    "    print(f\"\\tr^2: {local_r2:.4f}\")\n",
    "\n",
    "    plt.figure(figsize=(20, 8))\n",
    "    plt.plot(expected, color=\"black\", label=\"real\")\n",
    "    plt.plot(predictions, color=\"red\", label=\"predicted\")\n",
    "    plt.xlabel('Epoch')\n",
    "    plt.ylabel('% PERCLOS')\n",
    "    plt.legend(loc='best')\n",
    "    plt.ylim(0, 1.1)\n",
    "    plt.show()"
   ]
  },
  {
   "cell_type": "markdown",
   "id": "1d50bca9-33c8-4982-8dbe-f39c2cc76c8a",
   "metadata": {},
   "source": [
    "### KNN PSD + EOG"
   ]
  },
  {
   "cell_type": "code",
   "execution_count": null,
   "id": "41b7fa71-460b-4b10-8a98-a1fd797e68b3",
   "metadata": {},
   "outputs": [],
   "source": [
    "print(f\"Experiment: Modelo 70-30 KNN PSD\")\n",
    "model = KNeighborsRegressor(n_jobs=-1)\n",
    "\n",
    "space = dict()\n",
    "space['n_neighbors'] = randint(3, 25)\n",
    "space['weights'] = ['uniform', 'distance']\n",
    "space['algorithm'] = ['auto', 'ball_tree', 'kd_tree', 'brute']\n",
    "space['leaf_size'] = randint(15, 45)\n",
    "space['p'] = [1, 2]\n",
    "\n",
    "partial_model, rmse, r2 = find_and_test_best_model_reg(X_sub_eog, y_sub, model, space, cv=10,  n_iter=20)"
   ]
  },
  {
   "cell_type": "code",
   "execution_count": null,
   "id": "384473de-d5ff-4f0a-9036-9d2c10c6358a",
   "metadata": {
    "tags": []
   },
   "outputs": [],
   "source": [
    "for experiment in subset_test:\n",
    "    key = f'{experiment[:-4]}'\n",
    "    data = X_all_eog[key]\n",
    "    expected = y_all[key]\n",
    "    predictions = partial_model.predict(data)\n",
    "    local_rmse = np.sqrt(mean_squared_error(expected, predictions))\n",
    "    local_r2 = r2_score(expected, predictions)\n",
    "\n",
    "    print(f'Experiment: {key}')\n",
    "    print(f\"\\tRMSE: {local_rmse:.4f}\")\n",
    "    print(f\"\\tr^2: {local_r2:.4f}\")\n",
    "\n",
    "    plt.figure(figsize=(20, 8))\n",
    "    plt.plot(expected, color=\"black\", label=\"real\")\n",
    "    plt.plot(predictions, color=\"red\", label=\"predicted\")\n",
    "    plt.xlabel('Epoch')\n",
    "    plt.ylabel('% PERCLOS')\n",
    "    plt.legend(loc='best')\n",
    "    plt.ylim(0, 1.1)\n",
    "    plt.show()"
   ]
  },
  {
   "cell_type": "markdown",
   "id": "1e1b0223-f920-4ef1-af99-a6f7059c5739",
   "metadata": {},
   "source": [
    "## Decision Tree"
   ]
  },
  {
   "cell_type": "code",
   "execution_count": null,
   "id": "520ee6b2-00bd-4136-936a-1f11947a24a8",
   "metadata": {},
   "outputs": [],
   "source": [
    "from sklearn.tree import DecisionTreeRegressor"
   ]
  },
  {
   "cell_type": "markdown",
   "id": "cfc964a5-8e01-4bea-adc9-eff15f44375c",
   "metadata": {},
   "source": [
    "### Decision Tree PSD"
   ]
  },
  {
   "cell_type": "code",
   "execution_count": null,
   "id": "86c77fe4-9f27-4123-9c5f-349136f2ba65",
   "metadata": {},
   "outputs": [],
   "source": [
    "print(f\"Experiment: Modelo 90-10 Decision Tree PSD\")\n",
    "model = DecisionTreeRegressor(random_state=42)\n",
    "\n",
    "space = dict()\n",
    "space['criterion'] = ['mse', 'friedman_mse']\n",
    "space['splitter'] = [\"best\", \"random\"]\n",
    "space['max_depth'] = [None]\n",
    "space['min_samples_split'] = [2]\n",
    "space['min_samples_leaf'] = [1]\n",
    "space['max_features'] = [\"auto\", \"sqrt\", \"log2\"]\n",
    "\n",
    "partial_model, rmse, r2 = find_and_test_best_model_reg(X_sub, y_sub, model, space, cv=10,  n_iter=10)"
   ]
  },
  {
   "cell_type": "code",
   "execution_count": null,
   "id": "e7cf84a3-38ea-4dad-b595-c82101a9d51c",
   "metadata": {},
   "outputs": [],
   "source": [
    "attribs = ['psd_delta', 'psd_theta', 'psd_alpha', 'psd_betha', 'psd_gamma', 'n_parpadeos']\n",
    "importances = partial_model.feature_importances_\n",
    "importance_features = sorted(zip(importances, attribs), reverse=True)\n",
    "for imp, attr in importance_features:\n",
    "    print(f'{attr}: {imp:.4f}')"
   ]
  },
  {
   "cell_type": "code",
   "execution_count": null,
   "id": "fccaeb3d-608c-4c81-87ff-1b3ab7e16ebd",
   "metadata": {
    "tags": []
   },
   "outputs": [],
   "source": [
    "for experiment in subset_test:\n",
    "    key = f'{experiment[:-4]}'\n",
    "    data = X_all[key]\n",
    "    expected = y_all[key]\n",
    "    predictions = partial_model.predict(data)\n",
    "    local_rmse = np.sqrt(mean_squared_error(expected, predictions))\n",
    "    local_r2 = r2_score(expected, predictions)\n",
    "\n",
    "    print(f'Experiment: {key}')\n",
    "    print(f\"\\tRMSE: {local_rmse:.4f}\")\n",
    "    print(f\"\\tr^2: {local_r2:.4f}\")\n",
    "\n",
    "    plt.figure(figsize=(20, 8))\n",
    "    plt.plot(expected, color=\"black\", label=\"real\")\n",
    "    plt.plot(predictions, color=\"red\", label=\"predicted\")\n",
    "    plt.xlabel('Epoch')\n",
    "    plt.ylabel('% PERCLOS')\n",
    "    plt.legend(loc='best')\n",
    "    plt.ylim(0, 1.1)\n",
    "    plt.show()"
   ]
  },
  {
   "cell_type": "markdown",
   "id": "e388aac1-e32c-4733-8ce5-407acc1ad39d",
   "metadata": {},
   "source": [
    "### Decision Tree PSD + EOG"
   ]
  },
  {
   "cell_type": "code",
   "execution_count": null,
   "id": "047a1cb0-fe31-41e9-babf-9903852b4f21",
   "metadata": {},
   "outputs": [],
   "source": [
    "print(f\"Experiment: Modelo 90-10 Decision Tree PSD\")\n",
    "model = DecisionTreeRegressor(random_state=42)\n",
    "\n",
    "space = dict()\n",
    "space['criterion'] = ['mse', 'friedman_mse']\n",
    "space['splitter'] = [\"best\", \"random\"]\n",
    "space['max_depth'] = [None]\n",
    "space['min_samples_split'] = [2]\n",
    "space['min_samples_leaf'] = [1]\n",
    "space['max_features'] = [\"auto\", \"sqrt\", \"log2\"]\n",
    "\n",
    "partial_model, rmse, r2 = find_and_test_best_model_reg(X_sub_eog, y_sub, model, space, cv=10,  n_iter=100)"
   ]
  },
  {
   "cell_type": "code",
   "execution_count": null,
   "id": "3dbcef7d-b8be-443c-ab21-5d462b5a7d5a",
   "metadata": {},
   "outputs": [],
   "source": [
    "attribs = ['psd_delta', 'psd_theta', 'psd_alpha', 'psd_betha', 'psd_gamma', 'n_parpadeos']\n",
    "importances = partial_model.feature_importances_\n",
    "importance_features = sorted(zip(importances, attribs), reverse=True)\n",
    "for imp, attr in importance_features:\n",
    "    print(f'{attr}: {imp:.4f}')"
   ]
  },
  {
   "cell_type": "code",
   "execution_count": null,
   "id": "33b2ab80-6038-4727-80c6-52c4c8690b36",
   "metadata": {
    "tags": []
   },
   "outputs": [],
   "source": [
    "for experiment in subset_test:\n",
    "    key = f'{experiment[:-4]}'\n",
    "    data = X_all_eog[key]\n",
    "    expected = y_all[key]\n",
    "    predictions = partial_model.predict(data)\n",
    "    local_rmse = np.sqrt(mean_squared_error(expected, predictions))\n",
    "    local_r2 = r2_score(expected, predictions)\n",
    "\n",
    "    print(f'Experiment: {key}')\n",
    "    print(f\"\\tRMSE: {local_rmse:.4f}\")\n",
    "    print(f\"\\tr^2: {local_r2:.4f}\")\n",
    "\n",
    "    plt.figure(figsize=(20, 8))\n",
    "    plt.plot(expected, color=\"black\", label=\"real\")\n",
    "    plt.plot(predictions, color=\"red\", label=\"predicted\")\n",
    "    plt.xlabel('Epoch')\n",
    "    plt.ylabel('% PERCLOS')\n",
    "    plt.legend(loc='best')\n",
    "    plt.ylim(0, 1.1)\n",
    "    plt.show()"
   ]
  },
  {
   "cell_type": "markdown",
   "id": "8f128403-7e25-4bdb-8da1-c367325ebeaa",
   "metadata": {},
   "source": [
    "## Random Forest"
   ]
  },
  {
   "cell_type": "code",
   "execution_count": null,
   "id": "d89ca2b8-ddd9-4438-9f40-5142255e6e30",
   "metadata": {},
   "outputs": [],
   "source": [
    "from sklearn.ensemble import RandomForestRegressor"
   ]
  },
  {
   "cell_type": "markdown",
   "id": "f418671a-348a-4a53-93af-2e4b926f3c0f",
   "metadata": {},
   "source": [
    "### Random Forest PSD"
   ]
  },
  {
   "cell_type": "code",
   "execution_count": null,
   "id": "2cb4386f-18fe-43a0-8cc1-4f19440edf96",
   "metadata": {},
   "outputs": [],
   "source": [
    "print(f\"Experiment: Modelo 70-30 Random Forest PSD\")\n",
    "model = RandomForestRegressor(random_state=42)\n",
    "\n",
    "space = dict()\n",
    "space['n_estimators'] = randint(75, 200)\n",
    "space['criterion'] = ['mse']\n",
    "space['max_depth'] = randint(75, 150)\n",
    "space['min_samples_split'] = randint(2, 10)\n",
    "space['min_samples_leaf'] = randint(1, 10)\n",
    "# space['min_weight_fraction_leaf'X_all_eogform(0, 0.5)\n",
    "space['max_features'] = [\"auto\", \"sqrt\", \"log2\"]\n",
    "#space['max_leaf_nodes'] = randint(1, 300)\n",
    "# space['min_impurity_decrease'] = uniform(0, 5)\n",
    "#space['bootstrap'] = [True, False]\n",
    "# space['oob_score'] = [True, False]\n",
    "space['warm_start'] = [True, False]\n",
    "# space['class_weight'] = ['balanced', 'balanced_subsample']\n",
    "#space['ccp_alpha'] = uniform(0, 5)\n",
    "#space['max_samples'] = uniform(0, 1)\n",
    "\n",
    "partial_model, rmse, r2 = find_and_test_best_model_reg(X_sub, y_sub, model, space, cv=10,  n_iter=25)"
   ]
  },
  {
   "cell_type": "code",
   "execution_count": null,
   "id": "564c4cb6-9a8c-4d11-84bf-06ffcfccc158",
   "metadata": {},
   "outputs": [],
   "source": [
    "attribs = ['psd_delta', 'psd_theta', 'psd_alpha', 'psd_betha', 'psd_gamma', 'n_parpadeos']\n",
    "importances = partial_model.feature_importances_\n",
    "importance_features = sorted(zip(importances, attribs), reverse=True)\n",
    "for imp, attr in importance_features:\n",
    "    print(f'{attr}: {imp:.4f}')"
   ]
  },
  {
   "cell_type": "code",
   "execution_count": null,
   "id": "060d08b7-a0c5-4f5d-ba60-9f466fc144b1",
   "metadata": {},
   "outputs": [],
   "source": [
    "for experiment in subset_test:\n",
    "    key = f'{experiment[:-4]}'\n",
    "    data = X_all[key]\n",
    "    expected = y_all[key]\n",
    "    predictions = partial_model.predict(data)\n",
    "    local_rmse = np.sqrt(mean_squared_error(expected, predictions))\n",
    "    local_r2 = r2_score(expected, predictions)\n",
    "\n",
    "    print(f'Experiment: {key}')\n",
    "    print(f\"\\tRMSE: {local_rmse:.4f}\")\n",
    "    print(f\"\\tr^2: {local_r2:.4f}\")\n",
    "\n",
    "    plt.figure(figsize=(20, 8))\n",
    "    plt.plot(expected, color=\"black\", label=\"real\")\n",
    "    plt.plot(predictions, color=\"red\", label=\"predicted\")\n",
    "    plt.xlabel('Epoch')\n",
    "    plt.ylabel('% PERCLOS')\n",
    "    plt.legend(loc='best')\n",
    "    plt.ylim(0, 1.1)\n",
    "    plt.show()"
   ]
  },
  {
   "cell_type": "markdown",
   "id": "eb4db0c6-c891-4f20-b0d5-283633fadf4c",
   "metadata": {},
   "source": [
    "### Random Forest PSD + EOG"
   ]
  },
  {
   "cell_type": "code",
   "execution_count": null,
   "id": "aa319267-9248-4b72-9ec8-2a7da828a907",
   "metadata": {},
   "outputs": [],
   "source": [
    "print(f\"Experiment: Modelo 70-30 Random Forest PSD+EOG\")\n",
    "model = RandomForestRegressor(random_state=42)\n",
    "\n",
    "space = dict()\n",
    "space['n_estimators'] = randint(75, 200)\n",
    "space['criterion'] = ['mse']\n",
    "space['max_depth'] = randint(75, 150)\n",
    "space['min_samples_split'] = randint(2, 10)\n",
    "space['min_samples_leaf'] = randint(1, 10)\n",
    "# space['min_weight_fraction_leaf'X_all_eogform(0, 0.5)\n",
    "space['max_features'] = [\"auto\", \"sqrt\", \"log2\"]\n",
    "#space['max_leaf_nodes'] = randint(1, 300)\n",
    "# space['min_impurity_decrease'] = uniform(0, 5)\n",
    "#space['bootstrap'] = [True, False]\n",
    "# space['oob_score'] = [True, False]\n",
    "space['warm_start'] = [True, False]\n",
    "# space['class_weight'] = ['balanced', 'balanced_subsample']\n",
    "#space['ccp_alpha'] = uniform(0, 5)\n",
    "#space['max_samples'] = uniform(0, 1)\n",
    "\n",
    "partial_model, rmse, r2 = find_and_test_best_model_reg(X_sub_eog, y_sub, model, space, cv=10,  n_iter=25)"
   ]
  },
  {
   "cell_type": "code",
   "execution_count": null,
   "id": "7020a32a-2938-49c4-a774-4798eaa51fe4",
   "metadata": {},
   "outputs": [],
   "source": [
    "attribs = ['psd_delta', 'psd_theta', 'psd_alpha', 'psd_betha', 'psd_gamma', 'n_parpadeos']\n",
    "importances = partial_model.feature_importances_\n",
    "importance_features = sorted(zip(importances, attribs), reverse=True)\n",
    "for imp, attr in importance_features:\n",
    "    print(f'{attr}: {imp:.4f}')"
   ]
  },
  {
   "cell_type": "code",
   "execution_count": null,
   "id": "ef0c018b-4eba-4109-ab10-3fd5e0a96c0c",
   "metadata": {},
   "outputs": [],
   "source": [
    "for experiment in subset_test:\n",
    "    key = f'{experiment[:-4]}'\n",
    "    data = X_all_eog[key]\n",
    "    expected = y_all[key]\n",
    "    predictions = partial_model.predict(data)\n",
    "    local_rmse = np.sqrt(mean_squared_error(expected, predictions))\n",
    "    local_r2 = r2_score(expected, predictions)\n",
    "\n",
    "    print(f'Experiment: {key}')\n",
    "    print(f\"\\tRMSE: {local_rmse:.4f}\")\n",
    "    print(f\"\\tr^2: {local_r2:.4f}\")\n",
    "\n",
    "    plt.figure(figsize=(20, 8))\n",
    "    plt.plot(expected, color=\"black\", label=\"real\")\n",
    "    plt.plot(predictions, color=\"red\", label=\"predicted\")\n",
    "    plt.xlabel('Epoch')\n",
    "    plt.ylabel('% PERCLOS')\n",
    "    plt.legend(loc='best')\n",
    "    plt.ylim(0, 1.1)\n",
    "    plt.show()"
   ]
  },
  {
   "cell_type": "markdown",
   "id": "86e1421a-7a80-46de-8817-bc5b570d5928",
   "metadata": {},
   "source": [
    "# Ahora que tenemos una input mucho mas grande al juntar todos los X en uno, vamos a probar con Deep Learning (GRU)"
   ]
  },
  {
   "cell_type": "code",
   "execution_count": null,
   "id": "ac212b78-508a-4c46-b20f-134c9a456006",
   "metadata": {},
   "outputs": [],
   "source": [
    "import keras\n",
    "from tensorflow.keras.models import Sequential\n",
    "from tensorflow.keras.layers import Dense, LSTM, GRU\n",
    "from tensorflow.keras.callbacks import EarlyStopping, LearningRateScheduler\n",
    "from tensorflow.keras.optimizers import SGD, Adam"
   ]
  },
  {
   "cell_type": "code",
   "execution_count": null,
   "id": "cd087279-c73d-40de-a69d-c81abeba2658",
   "metadata": {},
   "outputs": [],
   "source": [
    "def gru_train_model(X, y, neurons=15, layers=2, verbose=1):\n",
    "    \n",
    "    # Tenemos que pasar de X de (885,n_features) a (885,n_features,1) para trabajar con RNN (LSTM, GRU, ...)\n",
    "    X_rs = np.reshape(X, (X.shape[0],X.shape[1],1))\n",
    "    # Tenemos que pasar de y de (885,) a (885,1)\n",
    "    y_rs = np.reshape(y, (y.shape[0],1))\n",
    "\n",
    "    X_train, X_test, y_train, y_test = train_test_split(X_rs, y_rs, test_size=0.25, random_state=42)\n",
    "\n",
    "    model = Sequential()\n",
    "    model.add(GRU(neurons, input_shape=(None, 1), return_sequences=True))\n",
    "    \n",
    "    #Internal layers\n",
    "    for i in range(layers-1):\n",
    "        model.add(GRU(neurons, return_sequences=True))\n",
    "    model.add(GRU(neurons))\n",
    "    \n",
    "    model.add(Dense(1))\n",
    "\n",
    "    early_stop = EarlyStopping(monitor='loss', patience=10, verbose=verbose)\n",
    "    optimizer = Adam(beta_1=0.9, beta_2=0.999, lr=0.01, decay=1e-4)\n",
    "\n",
    "    model.compile(loss='mean_squared_error', optimizer=optimizer)\n",
    "\n",
    "    #model.summary()\n",
    "    \n",
    "    model.fit(X_train, y_train, batch_size=32, epochs=200, verbose=verbose, callbacks=[early_stop])\n",
    "    \n",
    "    return model"
   ]
  },
  {
   "cell_type": "code",
   "execution_count": null,
   "id": "90bccc64-9497-4c98-b2c7-93adea4ecb13",
   "metadata": {
    "jupyter": {
     "outputs_hidden": true
    },
    "tags": []
   },
   "outputs": [],
   "source": [
    "DL_model = gru_train_model(X, y)"
   ]
  },
  {
   "cell_type": "code",
   "execution_count": null,
   "id": "5feaa099-5452-4e53-bf92-eb3c40b51781",
   "metadata": {
    "jupyter": {
     "outputs_hidden": true
    },
    "tags": []
   },
   "outputs": [],
   "source": [
    "for key in X_all:\n",
    "    data = X_all[key]\n",
    "    expected = y_all[key]\n",
    "\n",
    "    predictions = DL_model.predict(np.reshape(data, (data.shape[0],data.shape[1],1)))\n",
    "    local_mse = mean_squared_error(np.reshape(expected, (expected.shape[0],1)), prediction)\n",
    "    \n",
    "    plt.figure(figsize=(20, 8))\n",
    "    plt.plot(expected, color=\"black\", label=\"real\")\n",
    "    plt.plot(predictions, color=\"red\", label=\"predicted\")\n",
    "    plt.title(f'Exp:{key}, local_MSE:{local_mse:.4f}')\n",
    "    plt.xlabel('Epoch')\n",
    "    plt.ylabel('% PERCLOS')\n",
    "    plt.legend(loc='best')\n",
    "    plt.ylim(0, 1.1)\n",
    "    plt.show()"
   ]
  }
 ],
 "metadata": {
  "kernelspec": {
   "display_name": "Python 3 (ipykernel)",
   "language": "python",
   "name": "python3"
  },
  "language_info": {
   "codemirror_mode": {
    "name": "ipython",
    "version": 3
   },
   "file_extension": ".py",
   "mimetype": "text/x-python",
   "name": "python",
   "nbconvert_exporter": "python",
   "pygments_lexer": "ipython3",
   "version": "3.10.4"
  },
  "toc-autonumbering": true
 },
 "nbformat": 4,
 "nbformat_minor": 5
}
